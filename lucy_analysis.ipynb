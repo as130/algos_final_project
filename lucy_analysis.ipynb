{
 "cells": [
  {
   "cell_type": "markdown",
   "metadata": {},
   "source": [
    "# This is our workspace for data analysis!"
   ]
  },
  {
   "cell_type": "code",
   "execution_count": 14,
   "metadata": {},
   "outputs": [],
   "source": [
    "# feel free to add more\n",
    "import sqlite3\n",
    "import numpy as np\n",
    "import pandas as pd\n",
    "import matplotlib.pyplot as plt\n",
    "import collections\n",
    "import statsmodels.api as sm"
   ]
  },
  {
   "cell_type": "code",
   "execution_count": 15,
   "metadata": {},
   "outputs": [],
   "source": [
    "# Create connection to atlas\n",
    "conn_atlas = sqlite3.connect('./atlas.db')\n",
    "c_atlas = conn_atlas.cursor()"
   ]
  },
  {
   "cell_type": "code",
   "execution_count": 16,
   "metadata": {},
   "outputs": [
    {
     "name": "stdout",
     "output_type": "stream",
     "text": [
      "('Atlas_of_Surveillance_20201007',)\n",
      "('acs2017_county_data',)\n",
      "('acs2015_county_data',)\n",
      "(0, 'CountyId', 'TEXT', 0, None, 0)\n",
      "(1, 'State', 'TEXT', 0, None, 0)\n",
      "(2, 'County', 'TEXT', 0, None, 0)\n",
      "(3, 'TotalPop', 'TEXT', 0, None, 0)\n",
      "(4, 'Men', 'TEXT', 0, None, 0)\n",
      "(5, 'Women', 'TEXT', 0, None, 0)\n",
      "(6, 'Hispanic', 'TEXT', 0, None, 0)\n",
      "(7, 'White', 'TEXT', 0, None, 0)\n",
      "(8, 'Black', 'TEXT', 0, None, 0)\n",
      "(9, 'Native', 'TEXT', 0, None, 0)\n",
      "(10, 'Asian', 'TEXT', 0, None, 0)\n",
      "(11, 'Pacific', 'TEXT', 0, None, 0)\n",
      "(12, 'VotingAgeCitizen', 'TEXT', 0, None, 0)\n",
      "(13, 'Income', 'TEXT', 0, None, 0)\n",
      "(14, 'IncomeErr', 'TEXT', 0, None, 0)\n",
      "(15, 'IncomePerCap', 'TEXT', 0, None, 0)\n",
      "(16, 'IncomePerCapErr', 'TEXT', 0, None, 0)\n",
      "(17, 'Poverty', 'TEXT', 0, None, 0)\n",
      "(18, 'ChildPoverty', 'TEXT', 0, None, 0)\n",
      "(19, 'Professional', 'TEXT', 0, None, 0)\n",
      "(20, 'Service', 'TEXT', 0, None, 0)\n",
      "(21, 'Office', 'TEXT', 0, None, 0)\n",
      "(22, 'Construction', 'TEXT', 0, None, 0)\n",
      "(23, 'Production', 'TEXT', 0, None, 0)\n",
      "(24, 'Drive', 'TEXT', 0, None, 0)\n",
      "(25, 'Carpool', 'TEXT', 0, None, 0)\n",
      "(26, 'Transit', 'TEXT', 0, None, 0)\n",
      "(27, 'Walk', 'TEXT', 0, None, 0)\n",
      "(28, 'OtherTransp', 'TEXT', 0, None, 0)\n",
      "(29, 'WorkAtHome', 'TEXT', 0, None, 0)\n",
      "(30, 'MeanCommute', 'TEXT', 0, None, 0)\n",
      "(31, 'Employed', 'TEXT', 0, None, 0)\n",
      "(32, 'PrivateWork', 'TEXT', 0, None, 0)\n",
      "(33, 'PublicWork', 'TEXT', 0, None, 0)\n",
      "(34, 'SelfEmployed', 'TEXT', 0, None, 0)\n",
      "(35, 'FamilyWork', 'TEXT', 0, None, 0)\n",
      "(36, 'Unemployment', 'TEXT', 0, None, 0)\n"
     ]
    }
   ],
   "source": [
    "LIST_TABLES_CMD = \"SELECT name FROM sqlite_master WHERE type='table';\"\n",
    "\n",
    "# You can switch this to any table\n",
    "LIST_COLUMNS_CMD_ATLAS = \"PRAGMA table_info('acs2015_county_data');\"\n",
    "\n",
    "c_atlas.execute(LIST_TABLES_CMD)\n",
    "conn_atlas.commit()\n",
    "\n",
    "for row in c_atlas:\n",
    "  print(row)\n",
    "\n",
    "c_atlas.execute(LIST_COLUMNS_CMD_ATLAS)\n",
    "conn_atlas.commit()\n",
    "\n",
    "for column in c_atlas:\n",
    "    print(column)"
   ]
  },
  {
   "cell_type": "code",
   "execution_count": null,
   "metadata": {},
   "outputs": [],
   "source": [
    "# Feel free to change to demographic groups\n",
    "cursor_2015_black = conn_atlas.cursor()\n",
    "SELECT_BLACK_2015 = \"SELECT Black from acs2015_county_data\"\n",
    "cursor_2015_black.execute(SELECT_BLACK_2015)\n",
    "\n",
    "cursor_2015_state = conn_atlas.cursor()\n",
    "SELECT_STATE_2015 = \"SELECT State from acs2015_county_data\"\n",
    "cursor_2015_state.execute(SELECT_STATE_2015)\n",
    "black_2015 = [float(a[0]) for a in cursor_2015_black]\n",
    "state_2015 = [a[0] for a in cursor_2015_state]\n",
    "\n",
    "plot_state_race = plt.bar(state_2015, black_2015)\n",
    "plt.title('2015')\n",
    "plt.xlabel('State')\n",
    "plt.ylabel('% of Population that is Black')\n",
    "plt.xticks(fontsize=7, rotation=90)\n",
    "plt.show()"
   ]
  },
  {
   "cell_type": "markdown",
   "metadata": {},
   "source": [
    "# OLS workspace\n",
    "- array with number of each race in a county (multiply percentage by total pop)\n",
    "- array with total number of surveillance devices in a county (need SQL query for this)\n",
    "    - SQL query to join "
   ]
  },
  {
   "cell_type": "code",
   "execution_count": 10,
   "metadata": {},
   "outputs": [],
   "source": [
    "# Number of black people in each county\n",
    "# black_2015\n",
    "\n",
    "# Feel free to change to demographic groups\n",
    "cursor_2015_total_pop = conn_atlas.cursor()\n",
    "SELECT_TOTAL_POP_2015 = \"SELECT TotalPop from acs2015_county_data\"\n",
    "cursor_2015_total_pop.execute(SELECT_TOTAL_POP_2015)\n",
    "total_pop_2015 = [float(a[0]) for a in cursor_2015_total_pop]\n",
    "total_pop_black_2015 = []\n",
    "for i in range(len(total_pop_2015)) :\n",
    "    total_pop_black_2015.append(total_pop_2015[i] * black_2015[i])"
   ]
  },
  {
   "cell_type": "code",
   "execution_count": 13,
   "metadata": {},
   "outputs": [],
   "source": [
    "# select *\n",
    "# from Db1.dbo.Clients c\n",
    "# join Db2.dbo.Messages m on c.ClientId = m.ClientId\n",
    "\n",
    "\n",
    "COUNT_QUERY = 'SELECT * FROM acs2015_county_data INNER JOIN Atlas_of_Surveillance_20201007 ON acs2015_county_data.County = Atlas_of_Surveillance_20201007.County'\n",
    "JOIN_QUERY = 'SELECT acs2015_county_data.White, acs2015_county_data.TotalPop, (Atlas_of_surveillance_20201007.State || \\' \\' || Atlas_of_Surveillance_20201007.County) FROM Atlas_of_Surveillance_20201007, acs2015_county_data WHERE (acs2015_county_data.State || acs2015_county_data.County) = (Atlas_of_Surveillance_20201007.State || Atlas_of_Surveillance_20201007.County);'\n",
    "c_atlas = conn_atlas.cursor()\n",
    "c_atlas.execute(JOIN_QUERY)\n",
    "conn_atlas.commit()"
   ]
  },
  {
   "cell_type": "code",
   "execution_count": 12,
   "metadata": {},
   "outputs": [
    {
     "name": "stdout",
     "output_type": "stream",
     "text": [
      "                            OLS Regression Results                            \n",
      "==============================================================================\n",
      "Dep. Variable:                      y   R-squared:                       0.096\n",
      "Model:                            OLS   Adj. R-squared:                  0.095\n",
      "Method:                 Least Squares   F-statistic:                     136.5\n",
      "Date:                Tue, 20 Oct 2020   Prob (F-statistic):           4.92e-30\n",
      "Time:                        16:15:44   Log-Likelihood:                -4398.5\n",
      "No. Observations:                1288   AIC:                             8801.\n",
      "Df Residuals:                    1286   BIC:                             8811.\n",
      "Df Model:                           1                                         \n",
      "Covariance Type:            nonrobust                                         \n",
      "==============================================================================\n",
      "                 coef    std err          t      P>|t|      [0.025      0.975]\n",
      "------------------------------------------------------------------------------\n",
      "const         13.5607      0.825     16.432      0.000      11.942      15.180\n",
      "x1            -0.1258      0.011    -11.681      0.000      -0.147      -0.105\n",
      "==============================================================================\n",
      "Omnibus:                     1526.494   Durbin-Watson:                   1.716\n",
      "Prob(Omnibus):                  0.000   Jarque-Bera (JB):           189308.465\n",
      "Skew:                           5.973   Prob(JB):                         0.00\n",
      "Kurtosis:                      61.179   Cond. No.                         308.\n",
      "==============================================================================\n",
      "\n",
      "Notes:\n",
      "[1] Standard Errors assume that the covariance matrix of the errors is correctly specified.\n"
     ]
    }
   ],
   "source": [
    "# x should be number of a demographic group per county\n",
    "# y should be number of cameras found\n",
    "cameras_per_county = collections.Counter([row[2] for row in c_atlas])\n",
    "pop_black = {}\n",
    "c_atlas = conn_atlas.cursor()\n",
    "c_atlas.execute(JOIN_QUERY)\n",
    "conn_atlas.commit()\n",
    "for row in c_atlas :\n",
    "    percent_black, total_pop, county_state = row\n",
    "    pop_black[county_state] = float(percent_black)\n",
    "\n",
    "x = []\n",
    "y = []\n",
    "for county_state in cameras_per_county :\n",
    "    y.append(cameras_per_county[county_state])\n",
    "    x.append(pop_black[county_state])\n",
    "x, y = np.array(x), np.array(y)\n",
    "x = sm.add_constant(x)\n",
    "model = sm.OLS(y, x)\n",
    "results = model.fit()\n",
    "print(results.summary())"
   ]
  },
  {
   "cell_type": "code",
   "execution_count": null,
   "metadata": {},
   "outputs": [],
   "source": []
  },
  {
   "cell_type": "code",
   "execution_count": null,
   "metadata": {},
   "outputs": [],
   "source": []
  }
 ],
 "metadata": {
  "kernelspec": {
   "display_name": "Python 3",
   "language": "python",
   "name": "python3"
  },
  "language_info": {
   "codemirror_mode": {
    "name": "ipython",
    "version": 3
   },
   "file_extension": ".py",
   "mimetype": "text/x-python",
   "name": "python",
   "nbconvert_exporter": "python",
   "pygments_lexer": "ipython3",
   "version": "3.8.6"
  }
 },
 "nbformat": 4,
 "nbformat_minor": 4
}
