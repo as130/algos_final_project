{
 "cells": [
  {
   "cell_type": "markdown",
   "metadata": {},
   "source": [
    "# This is our workspace for data analysis!"
   ]
  },
  {
   "cell_type": "code",
   "execution_count": 5,
   "metadata": {},
   "outputs": [],
   "source": [
    "# feel free to add more\n",
    "import sqlite3\n",
    "import numpy as np\n",
    "import pandas as pd\n",
    "import matplotlib.pyplot as plt\n",
    "import collections\n",
    "import statsmodels.api as sm"
   ]
  },
  {
   "cell_type": "code",
   "execution_count": 6,
   "metadata": {},
   "outputs": [],
   "source": [
    "# Create connection to atlas\n",
    "conn_atlas = sqlite3.connect('./atlas.db')\n",
    "c_atlas = conn_atlas.cursor()"
   ]
  },
  {
   "cell_type": "code",
   "execution_count": 7,
   "metadata": {},
   "outputs": [
    {
     "name": "stdout",
     "output_type": "stream",
     "text": [
      "('Atlas_of_Surveillance_20201007',)\n",
      "('acs2017_county_data',)\n",
      "('acs2015_county_data',)\n",
      "(0, 'CountyId', 'TEXT', 0, None, 0)\n",
      "(1, 'State', 'TEXT', 0, None, 0)\n",
      "(2, 'County', 'TEXT', 0, None, 0)\n",
      "(3, 'TotalPop', 'TEXT', 0, None, 0)\n",
      "(4, 'Men', 'TEXT', 0, None, 0)\n",
      "(5, 'Women', 'TEXT', 0, None, 0)\n",
      "(6, 'Hispanic', 'TEXT', 0, None, 0)\n",
      "(7, 'White', 'TEXT', 0, None, 0)\n",
      "(8, 'Black', 'TEXT', 0, None, 0)\n",
      "(9, 'Native', 'TEXT', 0, None, 0)\n",
      "(10, 'Asian', 'TEXT', 0, None, 0)\n",
      "(11, 'Pacific', 'TEXT', 0, None, 0)\n",
      "(12, 'VotingAgeCitizen', 'TEXT', 0, None, 0)\n",
      "(13, 'Income', 'TEXT', 0, None, 0)\n",
      "(14, 'IncomeErr', 'TEXT', 0, None, 0)\n",
      "(15, 'IncomePerCap', 'TEXT', 0, None, 0)\n",
      "(16, 'IncomePerCapErr', 'TEXT', 0, None, 0)\n",
      "(17, 'Poverty', 'TEXT', 0, None, 0)\n",
      "(18, 'ChildPoverty', 'TEXT', 0, None, 0)\n",
      "(19, 'Professional', 'TEXT', 0, None, 0)\n",
      "(20, 'Service', 'TEXT', 0, None, 0)\n",
      "(21, 'Office', 'TEXT', 0, None, 0)\n",
      "(22, 'Construction', 'TEXT', 0, None, 0)\n",
      "(23, 'Production', 'TEXT', 0, None, 0)\n",
      "(24, 'Drive', 'TEXT', 0, None, 0)\n",
      "(25, 'Carpool', 'TEXT', 0, None, 0)\n",
      "(26, 'Transit', 'TEXT', 0, None, 0)\n",
      "(27, 'Walk', 'TEXT', 0, None, 0)\n",
      "(28, 'OtherTransp', 'TEXT', 0, None, 0)\n",
      "(29, 'WorkAtHome', 'TEXT', 0, None, 0)\n",
      "(30, 'MeanCommute', 'TEXT', 0, None, 0)\n",
      "(31, 'Employed', 'TEXT', 0, None, 0)\n",
      "(32, 'PrivateWork', 'TEXT', 0, None, 0)\n",
      "(33, 'PublicWork', 'TEXT', 0, None, 0)\n",
      "(34, 'SelfEmployed', 'TEXT', 0, None, 0)\n",
      "(35, 'FamilyWork', 'TEXT', 0, None, 0)\n",
      "(36, 'Unemployment', 'TEXT', 0, None, 0)\n"
     ]
    }
   ],
   "source": [
    "LIST_TABLES_CMD = \"SELECT name FROM sqlite_master WHERE type='table';\"\n",
    "\n",
    "# You can switch this to any table\n",
    "LIST_COLUMNS_CMD_ATLAS = \"PRAGMA table_info('acs2015_county_data');\"\n",
    "\n",
    "c_atlas.execute(LIST_TABLES_CMD)\n",
    "conn_atlas.commit()\n",
    "\n",
    "for row in c_atlas:\n",
    "  print(row)\n",
    "\n",
    "c_atlas.execute(LIST_COLUMNS_CMD_ATLAS)\n",
    "conn_atlas.commit()\n",
    "\n",
    "for column in c_atlas:\n",
    "    print(column)"
   ]
  },
  {
   "cell_type": "code",
   "execution_count": 8,
   "metadata": {},
   "outputs": [
    {
     "data": {
      "image/png": "[encoded data removed]",
      "text/plain": [
       "<Figure size 432x288 with 1 Axes>"
      ]
     },
     "metadata": {
      "needs_background": "light"
     },
     "output_type": "display_data"
    }
   ],
   "source": [
    "# Feel free to change to demographic groups\n",
    "cursor_2015_black = conn_atlas.cursor()\n",
    "SELECT_BLACK_2015 = \"SELECT Black from acs2015_county_data\"\n",
    "cursor_2015_black.execute(SELECT_BLACK_2015)\n",
    "\n",
    "cursor_2015_state = conn_atlas.cursor()\n",
    "SELECT_STATE_2015 = \"SELECT State from acs2015_county_data\"\n",
    "cursor_2015_state.execute(SELECT_STATE_2015)\n",
    "black_2015 = [float(a[0]) for a in cursor_2015_black]\n",
    "state_2015 = [a[0] for a in cursor_2015_state]\n",
    "\n",
    "plot_state_race = plt.bar(state_2015, black_2015)\n",
    "plt.title('2015')\n",
    "plt.xlabel('State')\n",
    "plt.ylabel('% of Population that is Black')\n",
    "plt.xticks(fontsize=7, rotation=90)\n",
    "plt.show()"
   ]
  },
  {
   "cell_type": "markdown",
   "metadata": {},
   "source": [
    "# OLS workspace\n",
    "- array with number of each race in a county (multiply percentage by total pop)\n",
    "- array with total number of surveillance devices in a county (need SQL query for this)\n",
    "    - SQL query to join "
   ]
  },
  {
   "cell_type": "code",
   "execution_count": 9,
   "metadata": {},
   "outputs": [],
   "source": [
    "# Number of black people in each county\n",
    "# black_2015\n",
    "\n",
    "# Feel free to change to demographic groups\n",
    "cursor_2015_total_pop = conn_atlas.cursor()\n",
    "SELECT_TOTAL_POP_2015 = \"SELECT TotalPop from acs2015_county_data\"\n",
    "cursor_2015_total_pop.execute(SELECT_TOTAL_POP_2015)\n",
    "total_pop_2015 = [float(a[0]) for a in cursor_2015_total_pop]\n",
    "total_pop_black_2015 = []\n",
    "for i in range(len(total_pop_2015)) :\n",
    "    total_pop_black_2015.append(total_pop_2015[i] * black_2015[i])"
   ]
  },
  {
   "cell_type": "code",
   "execution_count": 10,
   "metadata": {},
   "outputs": [],
   "source": [
    "# select *\n",
    "# from Db1.dbo.Clients c\n",
    "# join Db2.dbo.Messages m on c.ClientId = m.ClientId\n",
    "\n",
    "\n",
    "COUNT_QUERY = 'SELECT * FROM acs2015_county_data INNER JOIN Atlas_of_Surveillance_20201007 ON acs2015_county_data.County = Atlas_of_Surveillance_20201007.County'\n",
    "\n",
    "\n",
    "JOIN_QUERY = 'SELECT acs2015_county_data.Black, acs2015_county_data.TotalPop, (Atlas_of_surveillance_20201007.State || \\' \\' || Atlas_of_Surveillance_20201007.County), acs2015_county_data.Poverty FROM Atlas_of_Surveillance_20201007, acs2015_county_data WHERE (acs2015_county_data.State || acs2015_county_data.County) = (Atlas_of_Surveillance_20201007.State || Atlas_of_Surveillance_20201007.County);'\n",
    "c_atlas = conn_atlas.cursor()\n",
    "c_atlas.execute(JOIN_QUERY)\n",
    "conn_atlas.commit()"
   ]
  },
  {
   "cell_type": "code",
   "execution_count": 11,
   "metadata": {},
   "outputs": [
    {
     "data": {
      "image/png": "[encoded data removed]",
      "text/plain": [
       "<Figure size 432x288 with 1 Axes>"
      ]
     },
     "metadata": {
      "needs_background": "light"
     },
     "output_type": "display_data"
    },
    {
     "name": "stdout",
     "output_type": "stream",
     "text": [
      "                            OLS Regression Results                            \n",
      "==============================================================================\n",
      "Dep. Variable:                      y   R-squared:                       0.010\n",
      "Model:                            OLS   Adj. R-squared:                  0.010\n",
      "Method:                 Least Squares   F-statistic:                     13.57\n",
      "Date:                Tue, 20 Oct 2020   Prob (F-statistic):           0.000240\n",
      "Time:                        18:40:52   Log-Likelihood:                -4456.7\n",
      "No. Observations:                1288   AIC:                             8917.\n",
      "Df Residuals:                    1286   BIC:                             8928.\n",
      "Df Model:                           1                                         \n",
      "Covariance Type:            nonrobust                                         \n",
      "==============================================================================\n",
      "                 coef    std err          t      P>|t|      [0.025      0.975]\n",
      "------------------------------------------------------------------------------\n",
      "const          6.3591      0.618     10.286      0.000       5.146       7.572\n",
      "x1            -0.1320      0.036     -3.683      0.000      -0.202      -0.062\n",
      "==============================================================================\n",
      "Omnibus:                     1586.166   Durbin-Watson:                   1.619\n",
      "Prob(Omnibus):                  0.000   Jarque-Bera (JB):           210084.089\n",
      "Skew:                           6.390   Prob(JB):                         0.00\n",
      "Kurtosis:                      64.248   Cond. No.                         49.8\n",
      "==============================================================================\n",
      "\n",
      "Warnings:\n",
      "[1] Standard Errors assume that the covariance matrix of the errors is correctly specified.\n"
     ]
    }
   ],
   "source": [
    "# x should be number of a demographic group per county\n",
    "# y should be number of cameras found\n",
    "\n",
    "# map of county -> number of cameras in that county\n",
    "cameras_per_county = collections.Counter([row[2] for row in c_atlas])\n",
    "\n",
    "# map of county -> percentage of Black people in that county\n",
    "pop_black = {}\n",
    "cameras_per_capita = {}\n",
    "c_atlas = conn_atlas.cursor()\n",
    "c_atlas.execute(JOIN_QUERY)\n",
    "conn_atlas.commit()\n",
    "poverty_per_capita = {}\n",
    "for row in c_atlas :\n",
    "    percent_black, total_pop, county_state, poverty = row\n",
    "    pop_black[county_state] = float(percent_black)\n",
    "    cameras_per_capita[county_state] = float(cameras_per_county[county_state]) # / float(total_pop)\n",
    "    poverty_per_capita[county_state] = float(poverty)\n",
    "x = []\n",
    "y = []\n",
    "for county_state in cameras_per_capita :\n",
    "    y.append(cameras_per_capita[county_state])\n",
    "    x.append(poverty_per_capita[county_state])\n",
    "x, y = np.array(x), np.array(y)\n",
    "plt.scatter(x, y)\n",
    "plt.show()\n",
    "x = sm.add_constant(x)\n",
    "model = sm.OLS(y, x)\n",
    "results = model.fit()\n",
    "print(results.summary())"
   ]
  },
  {
   "cell_type": "markdown",
   "metadata": {},
   "source": [
    "# KNN Workspace"
   ]
  },
  {
   "cell_type": "code",
   "execution_count": 13,
   "metadata": {},
   "outputs": [
    {
     "name": "stdout",
     "output_type": "stream",
     "text": [
      "1288 1288\n",
      "0.35271317829457366\n",
      "0.3953488372093023\n",
      "0.3992248062015504\n",
      "0.3992248062015504\n",
      "0.39147286821705424\n",
      "0.3953488372093023\n",
      "0.4108527131782946\n",
      "0.4108527131782946\n",
      "0.4263565891472868\n",
      "0.42248062015503873\n",
      "0.42248062015503873\n",
      "0.3992248062015504\n",
      "0.3992248062015504\n",
      "0.4069767441860465\n",
      "0.3992248062015504\n",
      "0.38372093023255816\n",
      "0.39147286821705424\n",
      "0.3992248062015504\n",
      "0.39147286821705424\n",
      "0.39147286821705424\n",
      "0.3953488372093023\n",
      "0.3875968992248062\n",
      "0.39147286821705424\n",
      "0.3953488372093023\n",
      "0.3992248062015504\n",
      "0.3992248062015504\n",
      "0.3953488372093023\n",
      "0.40310077519379844\n",
      "0.40310077519379844\n",
      "0.3992248062015504\n",
      "0.41472868217054265\n",
      "0.3992248062015504\n",
      "0.4108527131782946\n",
      "0.4108527131782946\n",
      "0.39147286821705424\n",
      "0.4069767441860465\n",
      "0.40310077519379844\n",
      "0.4069767441860465\n",
      "0.4108527131782946\n",
      "0.4108527131782946\n",
      "0.4069767441860465\n",
      "0.41472868217054265\n",
      "0.4186046511627907\n",
      "0.4108527131782946\n",
      "0.4186046511627907\n",
      "0.4186046511627907\n",
      "0.4069767441860465\n",
      "0.41472868217054265\n",
      "0.42248062015503873\n",
      "0.4263565891472868\n",
      "31\n"
     ]
    },
    {
     "data": {
      "image/png": "[encoded data removed]",
      "text/plain": [
       "<Figure size 720x432 with 1 Axes>"
      ]
     },
     "metadata": {
      "needs_background": "light"
     },
     "output_type": "display_data"
    }
   ],
   "source": [
    "from sklearn.datasets import load_iris \n",
    "iris = load_iris() \n",
    "\n",
    "ML_DATA_QUERY = '''\n",
    "                SELECT \n",
    "                    (Atlas_of_surveillance_20201007.State || \\' \\' || Atlas_of_Surveillance_20201007.County),\n",
    "                    acs2015_county_data.Black, \n",
    "                    acs2015_county_data.TotalPop, \n",
    "                    acs2015_county_data.Poverty,\n",
    "                    acs2015_county_data.Men,\n",
    "                    acs2015_county_data.Women,\n",
    "                    acs2015_county_data.White,\n",
    "                    acs2015_county_data.Native,\n",
    "                    acs2015_county_data.Hispanic,\n",
    "                    acs2015_county_data.Asian,\n",
    "                    acs2015_county_data.Pacific,\n",
    "                    acs2015_county_data.Income,\n",
    "                    acs2015_county_data.Drive,\n",
    "                    acs2015_county_data.Walk,\n",
    "                    acs2015_county_data.Professional,\n",
    "                    acs2015_county_data.Unemployment,\n",
    "                    acs2015_county_data.Employed, \n",
    "                    acs2017_county_data.Black, \n",
    "                    acs2017_county_data.TotalPop, \n",
    "                    acs2017_county_data.Poverty,\n",
    "                    acs2017_county_data.Men,\n",
    "                    acs2017_county_data.Women,\n",
    "                    acs2017_county_data.White,\n",
    "                    acs2017_county_data.Native,\n",
    "                    acs2017_county_data.Hispanic,\n",
    "                    acs2017_county_data.Asian,\n",
    "                    acs2017_county_data.Pacific,\n",
    "                    acs2017_county_data.Income,\n",
    "                    acs2017_county_data.Drive,\n",
    "                    acs2017_county_data.Walk,\n",
    "                    acs2017_county_data.Unemployment,\n",
    "                    acs2017_county_data.Professional,\n",
    "                    acs2017_county_data.Employed\n",
    "                FROM Atlas_of_Surveillance_20201007, acs2015_county_data, acs2017_county_data\n",
    "                WHERE (acs2015_county_data.State || acs2015_county_data.County) = (Atlas_of_Surveillance_20201007.State || Atlas_of_Surveillance_20201007.County);'''\n",
    "\n",
    "c_atlas = conn_atlas.cursor()\n",
    "c_atlas.execute(ML_DATA_QUERY)\n",
    "conn_atlas.commit()\n",
    "\n",
    "\n",
    "# dictionary going from County_state -> numpy array of features for that county_state -> numpy 2d array\n",
    "features_map = {}\n",
    "cameras_per_county = collections.Counter([row[0] for row in c_atlas])\n",
    "c_atlas = conn_atlas.cursor()\n",
    "c_atlas.execute(ML_DATA_QUERY)\n",
    "conn_atlas.commit()\n",
    "for row in c_atlas :\n",
    "    county = row[0]\n",
    "    features_map[county] = np.asarray(row[1:len(row)], dtype=np.float32)\n",
    "print(len(cameras_per_county), len(features_map))\n",
    "\n",
    "# print(cameras_per_county, features_map)\n",
    "# store the feature matrix (X) and response vector (y) \n",
    "# 2d numpy array of features (feature matrix)\n",
    "X = []\n",
    "\n",
    "# labels\n",
    "y = []\n",
    "for county in cameras_per_county :\n",
    "    X.append(features_map[county])\n",
    "    y.append(cameras_per_county[county])\n",
    "\n",
    "X = np.array(X)\n",
    "y = np.array(y)\n",
    "    \n",
    "from sklearn.model_selection import train_test_split \n",
    "X_train, X_test, y_train, y_test = train_test_split(X, y, test_size=0.2, random_state=1) \n",
    "\n",
    "from sklearn.neighbors import KNeighborsClassifier \n",
    "from sklearn import metrics \n",
    "# knn = KNeighborsClassifier(n_neighbors=5) \n",
    "# knn.fit(X_train, y_train) \n",
    "\n",
    "accuracies = []\n",
    "for i in range(1,50):\n",
    "    knn = KNeighborsClassifier(n_neighbors=i)\n",
    "    knn.fit(X_train,y_train)\n",
    "    pred_i = knn.predict(X_test)\n",
    "    acc = metrics.accuracy_score(y_test, pred_i)\n",
    "    accuracies.append(acc)\n",
    "    print(acc)\n",
    "print(max(accuracies))\n",
    "\n",
    "plt.figure(figsize=(10,6))\n",
    "plt.plot(range(1,50),accuracies,color = 'blue',linestyle='dashed', \n",
    "         marker='o',markerfacecolor='red', markersize=10)\n",
    "plt.title('accuracy vs. K Value')\n",
    "plt.xlabel('K')\n",
    "plt.ylabel('Accuracy')\n",
    "\n",
    "print(len(set(y_test)))\n",
    "\n",
    "# y_pred = knn.predict(X_test) \n",
    "# print(\"kNN model accuracy:\", metrics.accuracy_score(y_test, y_pred)) "
   ]
  },
  {
   "cell_type": "code",
   "execution_count": null,
   "metadata": {},
   "outputs": [],
   "source": []
  }
 ],
 "metadata": {
  "kernelspec": {
   "display_name": "Python 3",
   "language": "python",
   "name": "python3"
  },
  "language_info": {
   "codemirror_mode": {
    "name": "ipython",
    "version": 3
   },
   "file_extension": ".py",
   "mimetype": "text/x-python",
   "name": "python",
   "nbconvert_exporter": "python",
   "pygments_lexer": "ipython3",
   "version": "3.8.2"
  }
 },
 "nbformat": 4,
 "nbformat_minor": 4
}
