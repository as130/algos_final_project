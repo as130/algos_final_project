{
 "cells": [
  {
   "cell_type": "code",
   "execution_count": null,
   "metadata": {},
   "outputs": [],
   "source": [
    "ML_DATA_QUERY = '''\n",
    "                SELECT \n",
    "                    (Atlas_of_surveillance_20201007.State || \\' \\' || Atlas_of_Surveillance_20201007.County),\n",
    "                    acs2015_county_data.Black, \n",
    "                    acs2015_county_data.TotalPop, \n",
    "                    acs2015_county_data.Poverty,\n",
    "                    acs2015_county_data.Men,\n",
    "                    acs2015_county_data.Women,\n",
    "                    acs2015_county_data.White,\n",
    "                    acs2015_county_data.Native,\n",
    "                    acs2015_county_data.Hispanic,\n",
    "                    acs2015_county_data.Asian,\n",
    "                    acs2015_county_data.Pacific,\n",
    "                    acs2015_county_data.Income,\n",
    "                    acs2015_county_data.Drive,\n",
    "                    acs2015_county_data.Walk,\n",
    "                    acs2015_county_data.Transit,\n",
    "                    acs2015_county_data.Professional,\n",
    "                    acs2015_county_data.WorkAtHome,\n",
    "                    acs2015_county_data.Unemployment,\n",
    "                    acs2015_county_data.SelfEmployed,\n",
    "                    acs2015_county_data.Professional,\n",
    "                    acs2015_county_data.Employed\n",
    "                FROM Atlas_of_Surveillance_20201007, acs2015_county_data\n",
    "                WHERE (acs2015_county_data.State || acs2015_county_data.County) = (Atlas_of_Surveillance_20201007.State || Atlas_of_Surveillance_20201007.County);'''\n"
   ]
  },
  {
   "cell_type": "code",
   "execution_count": null,
   "metadata": {},
   "outputs": [],
   "source": [
    "JOIN_QUERY = '''SELECT \n",
    "                       acs2015_county_data.Black, \n",
    "                       acs2015_county_data.TotalPop, \n",
    "                       (Atlas_of_surveillance_20201007.State || \\' \\' || Atlas_of_Surveillance_20201007.County), \n",
    "                       acs2015_county_data.Poverty \n",
    "                FROM \n",
    "                       Atlas_of_Surveillance_20201007, \n",
    "                       acs2015_county_data \n",
    "                WHERE \n",
    "                       (acs2015_county_data.State || acs2015_county_data.County) = (Atlas_of_Surveillance_20201007.State || Atlas_of_Surveillance_20201007.County) \n",
    "                           AND \n",
    "                        Atlas_of_Surveillance_20201007.Technology = \\'Real-Time Crime Center\\';'''"
   ]
  },
  {
   "cell_type": "code",
   "execution_count": null,
   "metadata": {},
   "outputs": [],
   "source": [
    "DISTINCT_TECH = 'SELECT DISTINCT Technology FROM Atlas_of_Surveillance_20201007;'"
   ]
  },
  {
   "cell_type": "code",
   "execution_count": null,
   "metadata": {},
   "outputs": [],
   "source": [
    "COUNT_QUERY = 'SELECT * FROM acs2015_county_data INNER JOIN Atlas_of_Surveillance_20201007 ON acs2015_county_data.County = Atlas_of_Surveillance_20201007.County'"
   ]
  },
  {
   "cell_type": "code",
   "execution_count": null,
   "metadata": {},
   "outputs": [],
   "source": [
    "LIST_TABLES_CMD = \"SELECT name FROM sqlite_master WHERE type='table';\""
   ]
  },
  {
   "cell_type": "code",
   "execution_count": null,
   "metadata": {},
   "outputs": [],
   "source": [
    "LIST_COLUMNS_CMD_ATLAS = \"PRAGMA table_info('Atlas_of_Surveillance_20201007');\""
   ]
  },
  {
   "cell_type": "code",
   "execution_count": null,
   "metadata": {},
   "outputs": [],
   "source": [
    "LIST_COLUMNS_CMD_2015 = \"PRAGMA table_info('acs2015_county_data');\""
   ]
  },
  {
   "cell_type": "code",
   "execution_count": null,
   "metadata": {},
   "outputs": [],
   "source": [
    "LIST_COLUMNS_CMD_2017 = \"PRAGMA table_info('acs2017_county_data');\""
   ]
  }
 ],
 "metadata": {
  "kernelspec": {
   "display_name": "Python 3",
   "language": "python",
   "name": "python3"
  },
  "language_info": {
   "codemirror_mode": {
    "name": "ipython",
    "version": 3
   },
   "file_extension": ".py",
   "mimetype": "text/x-python",
   "name": "python",
   "nbconvert_exporter": "python",
   "pygments_lexer": "ipython3",
   "version": "3.8.2"
  }
 },
 "nbformat": 4,
 "nbformat_minor": 4
}
