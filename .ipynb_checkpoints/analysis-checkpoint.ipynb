{
 "cells": [
  {
   "cell_type": "markdown",
   "metadata": {},
   "source": [
    "# This is our workspace for data analysis!"
   ]
  },
  {
   "cell_type": "code",
   "execution_count": 29,
   "metadata": {},
   "outputs": [],
   "source": [
    "# feel free to add more\n",
    "\n",
    "import sqlite3\n",
    "import numpy as np\n",
    "import pandas as np"
   ]
  },
  {
   "cell_type": "code",
   "execution_count": 30,
   "metadata": {},
   "outputs": [],
   "source": [
    "# Create connection to atlas\n",
    "conn_atlas = sqlite3.connect('./atlas.db')\n",
    "c_atlas = conn_atlas.cursor()"
   ]
  },
  {
   "cell_type": "code",
   "execution_count": 31,
   "metadata": {},
   "outputs": [
    {
     "name": "stdout",
     "output_type": "stream",
     "text": [
      "('Atlas_of_Surveillance_20201007',)\n"
     ]
    }
   ],
   "source": [
    "LIST_TABLES_CMD = \"SELECT name FROM sqlite_master WHERE type='table';\"\n",
    "c_atlas.execute(LIST_TABLES_CMD)\n",
    "conn_atlas.commit()\n",
    "\n",
    "for row in c_atlas:\n",
    "  print(row)"
   ]
  },
  {
   "cell_type": "code",
   "execution_count": 32,
   "metadata": {},
   "outputs": [],
   "source": [
    "# Create connection to 2015\n",
    "conn_2015 = sqlite3.connect('./us-census-data/2015.db')\n",
    "c_2015 = conn_2015.cursor()"
   ]
  },
  {
   "cell_type": "code",
   "execution_count": 33,
   "metadata": {},
   "outputs": [
    {
     "name": "stdout",
     "output_type": "stream",
     "text": [
      "('acs2015_county_data',)\n"
     ]
    }
   ],
   "source": [
    "c_2015.execute(LIST_TABLES_CMD)\n",
    "conn_2015.commit()\n",
    "\n",
    "for row in c_2015:\n",
    "  print(row)"
   ]
  },
  {
   "cell_type": "code",
   "execution_count": 34,
   "metadata": {},
   "outputs": [],
   "source": [
    "# Create connection to 2017\n",
    "conn_2017 = sqlite3.connect('./us-census-data/2017.db')\n",
    "c_2015 = conn_2017.cursor()"
   ]
  },
  {
   "cell_type": "code",
   "execution_count": 35,
   "metadata": {},
   "outputs": [
    {
     "name": "stdout",
     "output_type": "stream",
     "text": [
      "('acs2017_county_data',)\n"
     ]
    }
   ],
   "source": [
    "c_2015.execute(LIST_TABLES_CMD)\n",
    "conn_2017.commit()\n",
    "\n",
    "for row in c_2015:\n",
    "  print(row)"
   ]
  },
  {
   "cell_type": "code",
   "execution_count": null,
   "metadata": {},
   "outputs": [],
   "source": []
  }
 ],
 "metadata": {
  "kernelspec": {
   "display_name": "Python 3",
   "language": "python",
   "name": "python3"
  },
  "language_info": {
   "codemirror_mode": {
    "name": "ipython",
    "version": 3
   },
   "file_extension": ".py",
   "mimetype": "text/x-python",
   "name": "python",
   "nbconvert_exporter": "python",
   "pygments_lexer": "ipython3",
   "version": "3.8.2"
  }
 },
 "nbformat": 4,
 "nbformat_minor": 4
}
