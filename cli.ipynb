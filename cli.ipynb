{
 "cells": [
  {
   "cell_type": "code",
   "execution_count": 12,
   "metadata": {},
   "outputs": [],
   "source": [
    "import click\n",
    "import pickle\n",
    "import numpy as np\n",
    "FILENAME = 'trained_knn.sav'"
   ]
  },
  {
   "cell_type": "code",
   "execution_count": 13,
   "metadata": {},
   "outputs": [],
   "source": [
    "# load the model from disk\n",
    "@click.command()\n",
    "\n",
    "## TODO: fill in help section\n",
    "@click.argument('population', default=0, type=int)\n",
    "@click.argument('poverty', default=0, type=int)\n",
    "@click.argument('men', default=0, type=int)\n",
    "@click.argument('women', default=0, type=int)\n",
    "@click.argument('white', default=0, type=int)\n",
    "@click.argument('native', default=0, type=int)\n",
    "@click.argument('hispanic', default=0, type=int)\n",
    "@click.argument('asian', default=0, type=int)\n",
    "@click.argument('pacific', default=0, type=int)\n",
    "@click.argument('income', default=0, type=int)\n",
    "@click.argument('drive', default=0, type=int)\n",
    "@click.argument('walk', default=0, type=int)\n",
    "@click.argument('transit', default=0, type=int)\n",
    "@click.argument('professional', default=0, type=int)\n",
    "@click.argument('work_at_home', default=0, type=int)\n",
    "@click.argument('unemployment', default=0, type=int)\n",
    "@click.argument('selfemployed', default=0, type=int)\n",
    "@click.argument('employed', default=0, type=int)\n",
    "def cli(population, poverty, men, women, white, native, hispanic, \n",
    "        asian, pacific, income, drive, walk, transit, professional, work_at_home, \n",
    "       unemployment, selfemployed, employed) :\n",
    "    loaded_model = pickle.load(open(FILENAME, 'rb'))\n",
    "    X = [population, poverty, men, women, white, native, hispanic, \n",
    "        asian, pacific, income, drive, walk, transit, professional, work_at_home, \n",
    "       unemployment, selfemployed, professional, employed]\n",
    "    X = np.asarray(X, dtype=np.float32)\n",
    "    X_test = np.array(X)\n",
    "    result = loaded_model.predict(X_test)\n",
    "    print(result)"
   ]
  },
  {
   "cell_type": "code",
   "execution_count": 8,
   "metadata": {},
   "outputs": [],
   "source": [
    "\n"
   ]
  },
  {
   "cell_type": "code",
   "execution_count": null,
   "metadata": {},
   "outputs": [],
   "source": []
  },
  {
   "cell_type": "markdown",
   "metadata": {},
   "source": [
    "- acs2015_county_data.TotalPop, \n",
    "- acs2015_county_data.Poverty,\n",
    "- acs2015_county_data.Men,\n",
    "- acs2015_county_data.Women,\n",
    "- acs2015_county_data.White,\n",
    "- acs2015_county_data.Native,\n",
    "- acs2015_county_data.Hispanic,\n",
    "- acs2015_county_data.Asian,\n",
    "- acs2015_county_data.Pacific,\n",
    "- acs2015_county_data.Income,\n",
    "- acs2015_county_data.Drive,\n",
    "- acs2015_county_data.Walk,\n",
    "- acs2015_county_data.Transit,\n",
    "- acs2015_county_data.Professional,\n",
    "- acs2015_county_data.WorkAtHome,\n",
    "- acs2015_county_data.Unemployment,\n",
    "- acs2015_county_data.SelfEmployed,\n",
    "- acs2015_county_data.Professional,\n",
    "- acs2015_county_data.Employed"
   ]
  },
  {
   "cell_type": "code",
   "execution_count": null,
   "metadata": {},
   "outputs": [],
   "source": []
  }
 ],
 "metadata": {
  "kernelspec": {
   "display_name": "Python 3",
   "language": "python",
   "name": "python3"
  },
  "language_info": {
   "codemirror_mode": {
    "name": "ipython",
    "version": 3
   },
   "file_extension": ".py",
   "mimetype": "text/x-python",
   "name": "python",
   "nbconvert_exporter": "python",
   "pygments_lexer": "ipython3",
   "version": "3.8.2"
  }
 },
 "nbformat": 4,
 "nbformat_minor": 4
}
