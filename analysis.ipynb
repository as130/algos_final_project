{
 "cells": [
  {
   "cell_type": "markdown",
   "metadata": {},
   "source": [
    "# This is our workspace for data analysis!"
   ]
  },
  {
   "cell_type": "code",
   "execution_count": 52,
   "metadata": {},
   "outputs": [
    {
     "data": {
      "text/plain": [
       "<module 'queries' from '/Users/abigailsiegel/Desktop/algos_final_project/queries.py'>"
      ]
     },
     "execution_count": 52,
     "metadata": {},
     "output_type": "execute_result"
    }
   ],
   "source": [
    "# feel free to add more\n",
    "import sqlite3\n",
    "import numpy as np\n",
    "import pandas as pd\n",
    "import matplotlib.pyplot as plt\n",
    "import collections\n",
    "import statsmodels.api as sm\n",
    "import queries\n",
    "import importlib\n",
    "importlib.reload(queries)"
   ]
  },
  {
   "cell_type": "code",
   "execution_count": 53,
   "metadata": {},
   "outputs": [],
   "source": [
    "BODY_WORN_CAMERAS = 'Body-worn Cameras'\n",
    "GUNSHOT_DETECTION = 'Gunshot Detection'\n",
    "AUTOMATED_LICENSE_PLATE_READERS = 'Automated License Plate Readers'\n",
    "PREDICTIVE_POLICING = 'Predictive Policing'\n",
    "FACE_RECOGNITION = 'Face Recognition'\n",
    "DRONES = 'Drone'\n",
    "CAMERA_REGISTRY = 'Camera Registry'\n",
    "CELL_SITE_SIMULATOR = 'Cell-site Simulator'\n",
    "VIDEO_CV = 'Video Analytics/Computer Vision'\n",
    "FUSION_CENTER = 'Fusion Center'\n",
    "CRIME_CENTER = 'Real-Time Crime Center'\n",
    "RING = 'Ring/Neighbors Partnership'"
   ]
  },
  {
   "cell_type": "code",
   "execution_count": 54,
   "metadata": {},
   "outputs": [],
   "source": [
    "# Create connection to atlas\n",
    "conn_atlas = sqlite3.connect('./atlas.db')\n",
    "c_atlas = conn_atlas.cursor()"
   ]
  },
  {
   "cell_type": "code",
   "execution_count": 55,
   "metadata": {},
   "outputs": [
    {
     "name": "stdout",
     "output_type": "stream",
     "text": [
      "('Atlas_of_Surveillance_20201007',)\n",
      "('acs2017_county_data',)\n",
      "('acs2015_county_data',)\n",
      "(0, 'AOSNUMBER', 'TEXT', 0, None, 0)\n",
      "(1, 'City', 'TEXT', 0, None, 0)\n",
      "(2, 'County', 'TEXT', 0, None, 0)\n",
      "(3, 'State', 'TEXT', 0, None, 0)\n",
      "(4, 'Agency', 'TEXT', 0, None, 0)\n",
      "(5, 'Type of LEA', 'TEXT', 0, None, 0)\n",
      "(6, 'Summary', 'TEXT', 0, None, 0)\n",
      "(7, 'Type of Juris', 'TEXT', 0, None, 0)\n",
      "(8, 'Technology', 'TEXT', 0, None, 0)\n",
      "(9, 'Vendor', 'TEXT', 0, None, 0)\n",
      "(10, 'Link 1', 'TEXT', 0, None, 0)\n",
      "(11, 'Link 1 Snapshot', 'TEXT', 0, None, 0)\n",
      "(12, 'Link 1 Source', 'TEXT', 0, None, 0)\n",
      "(13, 'Link 1 Type', 'TEXT', 0, None, 0)\n",
      "(14, 'Link 1 Date', 'TEXT', 0, None, 0)\n",
      "(15, 'Link 2', 'TEXT', 0, None, 0)\n",
      "(16, 'Link 2 Snapshot', 'TEXT', 0, None, 0)\n",
      "(17, 'Link 2 Source', 'TEXT', 0, None, 0)\n",
      "(18, 'Link 2 Type', 'TEXT', 0, None, 0)\n",
      "(19, 'Link 2 Date', 'TEXT', 0, None, 0)\n",
      "(20, 'Link 3', 'TEXT', 0, None, 0)\n",
      "(21, 'Link 3 Snapshot', 'TEXT', 0, None, 0)\n",
      "(22, 'Link 3 Source', 'TEXT', 0, None, 0)\n",
      "(23, 'Link 3 Type', 'TEXT', 0, None, 0)\n",
      "(24, 'Link 3 Date', 'TEXT', 0, None, 0)\n"
     ]
    }
   ],
   "source": [
    "c_atlas.execute(queries.LIST_TABLES_CMD)\n",
    "conn_atlas.commit()\n",
    "\n",
    "for row in c_atlas:\n",
    "  print(row)\n",
    "\n",
    "# can switch to 2015 or 2017\n",
    "c_atlas.execute(queries.LIST_COLUMNS_CMD_ATLAS)\n",
    "conn_atlas.commit()\n",
    "\n",
    "for column in c_atlas:\n",
    "    print(column)"
   ]
  },
  {
   "cell_type": "code",
   "execution_count": null,
   "metadata": {},
   "outputs": [],
   "source": [
    "# Feel free to change to demographic groups\n",
    "cursor_2015_black = conn_atlas.cursor()\n",
    "cursor_2015_black.execute(queries.SELECT_BLACK_2015)\n",
    "\n",
    "cursor_2015_state = conn_atlas.cursor()\n",
    "cursor_2015_state.execute(queries.SELECT_STATE_2015)\n",
    "black_2015 = [float(a[0]) for a in cursor_2015_black]\n",
    "state_2015 = [a[0] for a in cursor_2015_state]\n",
    "\n",
    "plot_state_race = plt.bar(state_2015, black_2015)\n",
    "plt.title('2015')\n",
    "plt.xlabel('State')\n",
    "plt.ylabel('% of Population that is Black')\n",
    "plt.xticks(fontsize=7, rotation=90)\n",
    "plt.show()"
   ]
  },
  {
   "cell_type": "markdown",
   "metadata": {},
   "source": [
    "# OLS workspace\n",
    "- array with number of each race in a county (multiply percentage by total pop)\n",
    "- array with total number of surveillance devices in a county (need SQL query for this)\n",
    "    - SQL query to join "
   ]
  },
  {
   "cell_type": "code",
   "execution_count": null,
   "metadata": {},
   "outputs": [],
   "source": [
    "# Number of black people in each county\n",
    "# black_2015\n",
    "\n",
    "# Feel free to change to demographic groups\n",
    "cursor_2015_total_pop = conn_atlas.cursor()\n",
    "cursor_2015_total_pop.execute(queries.SELECT_TOTAL_POP_2015)\n",
    "total_pop_2015 = [float(a[0]) for a in cursor_2015_total_pop]\n",
    "total_pop_black_2015 = []\n",
    "for i in range(len(total_pop_2015)) :\n",
    "    total_pop_black_2015.append(total_pop_2015[i] * black_2015[i])"
   ]
  },
  {
   "cell_type": "code",
   "execution_count": null,
   "metadata": {},
   "outputs": [],
   "source": [
    "c_atlas = conn_atlas.cursor()\n",
    "c_atlas.execute(queries.DISTINCT_TECH)\n",
    "conn_atlas.commit()\n",
    "for row in c_atlas:\n",
    "    print(row)\n",
    "\n",
    "c_atlas = conn_atlas.cursor()\n",
    "c_atlas.execute(queries.JOIN_QUERY, [FACE_RECOGNITION])\n",
    "conn_atlas.commit()\n"
   ]
  },
  {
   "cell_type": "code",
   "execution_count": null,
   "metadata": {},
   "outputs": [],
   "source": [
    "# x should be number of a demographic group per county\n",
    "# y should be number of cameras found\n",
    "\n",
    "# map of county -> number of cameras in that county\n",
    "cameras_per_county = collections.Counter([row[2] for row in c_atlas])\n",
    "\n",
    "# map of county -> percentage of Black people in that county\n",
    "pop_black = {}\n",
    "cameras_per_capita = {}\n",
    "c_atlas = conn_atlas.cursor()\n",
    "c_atlas.execute(queries.JOIN_QUERY, [FACE_RECOGNITION])\n",
    "conn_atlas.commit()\n",
    "poverty_per_capita = {}\n",
    "for row in c_atlas :\n",
    "    percent_black, total_pop, county_state, poverty = row\n",
    "    pop_black[county_state] = float(percent_black)\n",
    "    cameras_per_capita[county_state] = float(cameras_per_county[county_state]) # / float(total_pop)\n",
    "    poverty_per_capita[county_state] = float(poverty)\n",
    "x = []\n",
    "y = []\n",
    "for county_state in cameras_per_capita :\n",
    "    y.append(cameras_per_capita[county_state])\n",
    "    x.append(pop_black[county_state])\n",
    "x, y = np.array(x), np.array(y)\n",
    "plt.scatter(x, y)\n",
    "plt.show()\n",
    "x = sm.add_constant(x)\n",
    "model = sm.OLS(y, x)\n",
    "results = model.fit()\n",
    "print(results.summary())"
   ]
  },
  {
   "cell_type": "markdown",
   "metadata": {},
   "source": [
    "# KNN Workspace"
   ]
  },
  {
   "cell_type": "code",
   "execution_count": null,
   "metadata": {},
   "outputs": [],
   "source": [
    "c_atlas = conn_atlas.cursor()\n",
    "c_atlas.execute(queries.ML_DATA_QUERY)\n",
    "conn_atlas.commit()\n",
    "\n",
    "\n",
    "# dictionary going from County_state -> numpy array of features for that county_state -> numpy 2d array\n",
    "features_map = {}\n",
    "cameras_per_county = collections.Counter([row[0] for row in c_atlas])\n",
    "c_atlas = conn_atlas.cursor()\n",
    "c_atlas.execute(queries.ML_DATA_QUERY)\n",
    "conn_atlas.commit()\n",
    "nums = []\n",
    "\n",
    "print(queries.ML_DATA_QUERY)\n",
    "for val in cameras_per_county.values() :\n",
    "    nums.append(float(val))\n",
    "a = np.percentile(np.array(nums), 25, axis=None, out=None)\n",
    "b = np.percentile(np.array(nums), 50, axis=None, out=None)\n",
    "c = np.percentile(np.array(nums), 75, axis=None, out=None)\n",
    "d = np.percentile(np.array(nums), 100, axis=None, out=None)\n",
    "\n",
    "for row in c_atlas :\n",
    "    county = row[0]\n",
    "    print(row[1:len(row)], county)\n",
    "    print(np.asarray(row[1:len(row)], dtype=np.float32))\n",
    "    features_map[county] = np.asarray(row[1:len(row)], dtype=None)\n",
    "    print(len(features_map[county]))"
   ]
  },
  {
   "cell_type": "code",
   "execution_count": null,
   "metadata": {},
   "outputs": [],
   "source": [
    "for county in cameras_per_county :\n",
    "    num_cams = cameras_per_county[county]\n",
    "    if num_cams <= a :\n",
    "        cameras_per_county[county] = 0.0\n",
    "    elif num_cams <= b :\n",
    "        cameras_per_county[county] = 1.0\n",
    "    elif num_cams <= c :\n",
    "        cameras_per_county[county] = 2.0\n",
    "    elif num_cams <= d :\n",
    "        cameras_per_county[county] = 3.0\n",
    "X = []\n",
    "\n",
    "# labels\n",
    "y = []\n",
    "for county in cameras_per_county :\n",
    "    X.append(features_map[county])\n",
    "    y.append(cameras_per_county[county])\n",
    "\n",
    "X = np.array(X)\n",
    "y = np.array(y)\n",
    "    \n",
    "from sklearn.model_selection import train_test_split \n",
    "X_train, X_test, y_train, y_test = train_test_split(X, y, test_size=0.2, random_state=1) \n",
    "\n",
    "from sklearn.neighbors import KNeighborsClassifier \n",
    "from sklearn import metrics \n",
    "\n",
    "accuracies = []\n",
    "for i in range(1, 250):\n",
    "    knn = KNeighborsClassifier(n_neighbors=i)\n",
    "    knn.fit(X_train,y_train)\n",
    "    pred_i = knn.predict(X_test)\n",
    "    acc = metrics.accuracy_score(y_test, pred_i)\n",
    "    accuracies.append(acc)\n",
    "    print(acc)\n",
    "print(max(accuracies))\n",
    "\n",
    "plt.figure(figsize=(10,6))\n",
    "plt.plot(range(1,250),accuracies,color = 'blue',linestyle='dashed', \n",
    "         marker='o',markerfacecolor='red', markersize=10)\n",
    "plt.title('accuracy vs. K Value')\n",
    "plt.xlabel('K')\n",
    "plt.ylabel('Accuracy')\n",
    "\n",
    "print(len(set(y_test)))\n"
   ]
  },
  {
   "cell_type": "code",
   "execution_count": null,
   "metadata": {},
   "outputs": [],
   "source": []
  },
  {
   "cell_type": "code",
   "execution_count": null,
   "metadata": {},
   "outputs": [],
   "source": []
  },
  {
   "cell_type": "code",
   "execution_count": null,
   "metadata": {},
   "outputs": [],
   "source": []
  }
 ],
 "metadata": {
  "kernelspec": {
   "display_name": "Python 3",
   "language": "python",
   "name": "python3"
  },
  "language_info": {
   "codemirror_mode": {
    "name": "ipython",
    "version": 3
   },
   "file_extension": ".py",
   "mimetype": "text/x-python",
   "name": "python",
   "nbconvert_exporter": "python",
   "pygments_lexer": "ipython3",
   "version": "3.8.2"
  }
 },
 "nbformat": 4,
 "nbformat_minor": 4
}
