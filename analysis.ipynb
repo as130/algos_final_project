{
 "cells": [
  {
   "cell_type": "markdown",
   "metadata": {},
   "source": [
    "# This is our workspace for data analysis!"
   ]
  },
  {
   "cell_type": "code",
   "execution_count": 1,
   "metadata": {},
   "outputs": [],
   "source": [
    "# feel free to add more\n",
    "\n",
    "import sqlite3\n",
    "import numpy as np\n",
    "import pandas as pd\n",
    "import matplotlib.pyplot as plt"
   ]
  },
  {
   "cell_type": "code",
   "execution_count": 2,
   "metadata": {},
   "outputs": [],
   "source": [
    "# Create connection to atlas\n",
    "conn_atlas = sqlite3.connect('./atlas.db')\n",
    "c_atlas = conn_atlas.cursor()"
   ]
  },
  {
   "cell_type": "code",
   "execution_count": 3,
   "metadata": {},
   "outputs": [
    {
     "name": "stdout",
     "output_type": "stream",
     "text": [
      "('Atlas_of_Surveillance_20201007',)\n",
      "('acs2015_county_data',)\n",
      "('acs2017_county_data',)\n",
      "(0, 'AOSNUMBER', 'TEXT', 0, None, 0)\n",
      "(1, 'City', 'TEXT', 0, None, 0)\n",
      "(2, 'County', 'TEXT', 0, None, 0)\n",
      "(3, 'State', 'TEXT', 0, None, 0)\n",
      "(4, 'Agency', 'TEXT', 0, None, 0)\n",
      "(5, 'Type of LEA', 'TEXT', 0, None, 0)\n",
      "(6, 'Summary', 'TEXT', 0, None, 0)\n",
      "(7, 'Type of Juris', 'TEXT', 0, None, 0)\n",
      "(8, 'Technology', 'TEXT', 0, None, 0)\n",
      "(9, 'Vendor', 'TEXT', 0, None, 0)\n",
      "(10, 'Link 1', 'TEXT', 0, None, 0)\n",
      "(11, 'Link 1 Snapshot', 'TEXT', 0, None, 0)\n",
      "(12, 'Link 1 Source', 'TEXT', 0, None, 0)\n",
      "(13, 'Link 1 Type', 'TEXT', 0, None, 0)\n",
      "(14, 'Link 1 Date', 'TEXT', 0, None, 0)\n",
      "(15, 'Link 2', 'TEXT', 0, None, 0)\n",
      "(16, 'Link 2 Snapshot', 'TEXT', 0, None, 0)\n",
      "(17, 'Link 2 Source', 'TEXT', 0, None, 0)\n",
      "(18, 'Link 2 Type', 'TEXT', 0, None, 0)\n",
      "(19, 'Link 2 Date', 'TEXT', 0, None, 0)\n",
      "(20, 'Link 3', 'TEXT', 0, None, 0)\n",
      "(21, 'Link 3 Snapshot', 'TEXT', 0, None, 0)\n",
      "(22, 'Link 3 Source', 'TEXT', 0, None, 0)\n",
      "(23, 'Link 3 Type', 'TEXT', 0, None, 0)\n",
      "(24, 'Link 3 Date', 'TEXT', 0, None, 0)\n"
     ]
    }
   ],
   "source": [
    "LIST_TABLES_CMD = \"SELECT name FROM sqlite_master WHERE type='table';\"\n",
    "LIST_COLUMNS_CMD_ATLAS = \"PRAGMA table_info('Atlas_of_Surveillance_20201007');\"\n",
    "c_atlas.execute(LIST_TABLES_CMD)\n",
    "conn_atlas.commit()\n",
    "\n",
    "for row in c_atlas:\n",
    "  print(row)\n",
    "\n",
    "c_atlas.execute(LIST_COLUMNS_CMD_ATLAS)\n",
    "conn_atlas.commit()\n",
    "\n",
    "for column in c_atlas:\n",
    "    print(column)"
   ]
  },
  {
   "cell_type": "code",
   "execution_count": 4,
   "metadata": {},
   "outputs": [],
   "source": [
    "# Create connection to 2015\n",
    "conn_2015 = sqlite3.connect('./us-census-data/2015.db')\n",
    "c_2015 = conn_2015.cursor()"
   ]
  },
  {
   "cell_type": "code",
   "execution_count": 5,
   "metadata": {},
   "outputs": [
    {
     "name": "stdout",
     "output_type": "stream",
     "text": [
      "('acs2015_county_data',)\n",
      "(0, 'CensusId', 'TEXT', 0, None, 0)\n",
      "(1, 'State', 'TEXT', 0, None, 0)\n",
      "(2, 'County', 'TEXT', 0, None, 0)\n",
      "(3, 'TotalPop', 'TEXT', 0, None, 0)\n",
      "(4, 'Men', 'TEXT', 0, None, 0)\n",
      "(5, 'Women', 'TEXT', 0, None, 0)\n",
      "(6, 'Hispanic', 'TEXT', 0, None, 0)\n",
      "(7, 'White', 'TEXT', 0, None, 0)\n",
      "(8, 'Black', 'TEXT', 0, None, 0)\n",
      "(9, 'Native', 'TEXT', 0, None, 0)\n",
      "(10, 'Asian', 'TEXT', 0, None, 0)\n",
      "(11, 'Pacific', 'TEXT', 0, None, 0)\n",
      "(12, 'Citizen', 'TEXT', 0, None, 0)\n",
      "(13, 'Income', 'TEXT', 0, None, 0)\n",
      "(14, 'IncomeErr', 'TEXT', 0, None, 0)\n",
      "(15, 'IncomePerCap', 'TEXT', 0, None, 0)\n",
      "(16, 'IncomePerCapErr', 'TEXT', 0, None, 0)\n",
      "(17, 'Poverty', 'TEXT', 0, None, 0)\n",
      "(18, 'ChildPoverty', 'TEXT', 0, None, 0)\n",
      "(19, 'Professional', 'TEXT', 0, None, 0)\n",
      "(20, 'Service', 'TEXT', 0, None, 0)\n",
      "(21, 'Office', 'TEXT', 0, None, 0)\n",
      "(22, 'Construction', 'TEXT', 0, None, 0)\n",
      "(23, 'Production', 'TEXT', 0, None, 0)\n",
      "(24, 'Drive', 'TEXT', 0, None, 0)\n",
      "(25, 'Carpool', 'TEXT', 0, None, 0)\n",
      "(26, 'Transit', 'TEXT', 0, None, 0)\n",
      "(27, 'Walk', 'TEXT', 0, None, 0)\n",
      "(28, 'OtherTransp', 'TEXT', 0, None, 0)\n",
      "(29, 'WorkAtHome', 'TEXT', 0, None, 0)\n",
      "(30, 'MeanCommute', 'TEXT', 0, None, 0)\n",
      "(31, 'Employed', 'TEXT', 0, None, 0)\n",
      "(32, 'PrivateWork', 'TEXT', 0, None, 0)\n",
      "(33, 'PublicWork', 'TEXT', 0, None, 0)\n",
      "(34, 'SelfEmployed', 'TEXT', 0, None, 0)\n",
      "(35, 'FamilyWork', 'TEXT', 0, None, 0)\n",
      "(36, 'Unemployment', 'TEXT', 0, None, 0)\n"
     ]
    },
    {
     "data": {
      "image/png": "[encoded data removed]",
      "text/plain": [
       "<Figure size 432x288 with 1 Axes>"
      ]
     },
     "metadata": {
      "needs_background": "light"
     },
     "output_type": "display_data"
    }
   ],
   "source": [
    "c_2015.execute(LIST_TABLES_CMD)\n",
    "conn_2015.commit()\n",
    "\n",
    "for row in c_2015:\n",
    "  print(row)\n",
    "\n",
    "LIST_COLUMNS_CMD_2015 = \"PRAGMA table_info('acs2015_county_data');\"\n",
    "\n",
    "c_2015.execute(LIST_COLUMNS_CMD_2015)\n",
    "conn_2015.commit()\n",
    "\n",
    "for column in c_2015:\n",
    "    print(column)\n",
    "\n",
    "# Feel free to change to demographic groups\n",
    "cursor_2015_black = conn_2015.cursor()\n",
    "SELECT_BLACK_2015 = \"SELECT Black from acs2015_county_data\"\n",
    "cursor_2015_black.execute(SELECT_BLACK_2015)\n",
    "\n",
    "cursor_2015_state = conn_2015.cursor()\n",
    "SELECT_STATE_2015 = \"SELECT State from acs2015_county_data\"\n",
    "cursor_2015_state.execute(SELECT_STATE_2015)\n",
    "black_2015 = [float(a[0]) for a in cursor_2015_black]\n",
    "state_2015 = [a[0] for a in cursor_2015_state]\n",
    "\n",
    "plot_state_race = plt.bar(state_2015, black_2015)\n",
    "plt.title('2015')\n",
    "plt.xlabel('State')\n",
    "plt.ylabel('% of Population that is Black')\n",
    "plt.xticks(fontsize=7, rotation=90)\n",
    "plt.show()"
   ]
  },
  {
   "cell_type": "code",
   "execution_count": 6,
   "metadata": {},
   "outputs": [],
   "source": [
    "# Create connection to 2017\n",
    "conn_2017 = sqlite3.connect('./us-census-data/2017.db')\n",
    "c_2017 = conn_2017.cursor()"
   ]
  },
  {
   "cell_type": "code",
   "execution_count": 7,
   "metadata": {},
   "outputs": [
    {
     "name": "stdout",
     "output_type": "stream",
     "text": [
      "(0, 'CountyId', 'TEXT', 0, None, 0)\n",
      "(1, 'State', 'TEXT', 0, None, 0)\n",
      "(2, 'County', 'TEXT', 0, None, 0)\n",
      "(3, 'TotalPop', 'TEXT', 0, None, 0)\n",
      "(4, 'Men', 'TEXT', 0, None, 0)\n",
      "(5, 'Women', 'TEXT', 0, None, 0)\n",
      "(6, 'Hispanic', 'TEXT', 0, None, 0)\n",
      "(7, 'White', 'TEXT', 0, None, 0)\n",
      "(8, 'Black', 'TEXT', 0, None, 0)\n",
      "(9, 'Native', 'TEXT', 0, None, 0)\n",
      "(10, 'Asian', 'TEXT', 0, None, 0)\n",
      "(11, 'Pacific', 'TEXT', 0, None, 0)\n",
      "(12, 'VotingAgeCitizen', 'TEXT', 0, None, 0)\n",
      "(13, 'Income', 'TEXT', 0, None, 0)\n",
      "(14, 'IncomeErr', 'TEXT', 0, None, 0)\n",
      "(15, 'IncomePerCap', 'TEXT', 0, None, 0)\n",
      "(16, 'IncomePerCapErr', 'TEXT', 0, None, 0)\n",
      "(17, 'Poverty', 'TEXT', 0, None, 0)\n",
      "(18, 'ChildPoverty', 'TEXT', 0, None, 0)\n",
      "(19, 'Professional', 'TEXT', 0, None, 0)\n",
      "(20, 'Service', 'TEXT', 0, None, 0)\n",
      "(21, 'Office', 'TEXT', 0, None, 0)\n",
      "(22, 'Construction', 'TEXT', 0, None, 0)\n",
      "(23, 'Production', 'TEXT', 0, None, 0)\n",
      "(24, 'Drive', 'TEXT', 0, None, 0)\n",
      "(25, 'Carpool', 'TEXT', 0, None, 0)\n",
      "(26, 'Transit', 'TEXT', 0, None, 0)\n",
      "(27, 'Walk', 'TEXT', 0, None, 0)\n",
      "(28, 'OtherTransp', 'TEXT', 0, None, 0)\n",
      "(29, 'WorkAtHome', 'TEXT', 0, None, 0)\n",
      "(30, 'MeanCommute', 'TEXT', 0, None, 0)\n",
      "(31, 'Employed', 'TEXT', 0, None, 0)\n",
      "(32, 'PrivateWork', 'TEXT', 0, None, 0)\n",
      "(33, 'PublicWork', 'TEXT', 0, None, 0)\n",
      "(34, 'SelfEmployed', 'TEXT', 0, None, 0)\n",
      "(35, 'FamilyWork', 'TEXT', 0, None, 0)\n",
      "(36, 'Unemployment', 'TEXT', 0, None, 0)\n"
     ]
    }
   ],
   "source": [
    "c_2017.execute(LIST_TABLES_CMD)\n",
    "conn_2017.commit()\n",
    "\n",
    "LIST_COLUMNS_CMD_2017 = \"PRAGMA table_info('acs2017_county_data');\"\n",
    "\n",
    "c_2017.execute(LIST_COLUMNS_CMD_2017)\n",
    "conn_2017.commit()\n",
    "\n",
    "for column in c_2017:\n",
    "    print(column)\n",
    "for row in c_2017:\n",
    "  print(row)"
   ]
  },
  {
   "cell_type": "markdown",
   "metadata": {},
   "source": [
    "# OLS workspace\n",
    "- array with number of each race in a county (multiply percentage by total pop)\n",
    "- array with total number of surveillance devices in a county (need SQL query for this)\n",
    "    - SQL query to join "
   ]
  },
  {
   "cell_type": "code",
   "execution_count": 8,
   "metadata": {},
   "outputs": [],
   "source": [
    "# Number of black people in each county\n",
    "# black_2015\n",
    "\n",
    "# Feel free to change to demographic groups\n",
    "cursor_2015_total_pop = conn_2015.cursor()\n",
    "SELECT_TOTAL_POP_2015 = \"SELECT TotalPop from acs2015_county_data\"\n",
    "cursor_2015_total_pop.execute(SELECT_TOTAL_POP_2015)\n",
    "total_pop_2015 = [float(a[0]) for a in cursor_2015_total_pop]\n",
    "total_pop_black_2015 = []\n",
    "for i in range(len(total_pop_2015)) :\n",
    "    total_pop_black_2015.append(total_pop_2015[i] * black_2015[i])"
   ]
  },
  {
   "cell_type": "code",
   "execution_count": 13,
   "metadata": {},
   "outputs": [
    {
     "name": "stdout",
     "output_type": "stream",
     "text": [
      "('AOS1573', 'Fairbanks', 'Fairbanks North Star Borough', 'AK', 'Fairbanks Police Department', 'Police', 'The Fairbanks Police Department operates one DJI Inspire drone as of 2017, according to data compiled by the Center for the Study of the Drone at Bard College.', 'Municipal', 'Drones', 'DJI', 'https://dronecenter.bard.edu/projects/public-safety-drones-project/public-safety-drones-3rd-edition/', '', 'Center for the Study of the Drone at Bard College', '', '2020', '', '', '', '', '', '', '', '', '', '', '2090', 'Alaska', 'Fairbanks North Star Borough', '99705', '53477', '46228', '7.4', '71.9', '4.1', '5.7', '2.6', '0.6', '72964', '71068.0', '1964.0', '33244', '1103', '8.1', '9.9', '36.6', '17.0', '23.4', '12.9', '10.1', '74.0', '14.3', '1.5', '3.6', '3.3', '3.4', '19.2', '46661', '65.8', '29.9', '4.1', '0.2', '7.9') \n",
      "\n",
      "I: 0\n",
      "('AOS2770', 'Salinas', 'Monterey', 'CA', 'Salinas Police Department', 'Police', 'The Salinas Police Department started using ShotSpotter gunshot detection technology in 2015.', 'Municipal', 'Gunshot Detection', 'ShotSpotter', 'https://www.ksbw.com/article/police-launch-shotspotter-in-salinas/8502574', '', 'KSBW8', '', '12/14/2016', 'https://www.salinaspd.com/content/shotspotter-activation-arrest', '', 'Salinas Police Department website. Where I simply searched ShotSpotter. ', '', '10/14/18', 'https://www.shotspotter.com/news/salinas-police-using-controlled-gunfire-wednesday-night-to-test-detection-system/', '', 'shotspotter.com', '', '12/14/2016', '6053', 'California', 'Monterey', '428441', '219299', '209142', '56.9', '31.5', '2.6', '0.3', '5.9', '0.5', '229007', '58783.0', '1121.0', '24994', '640', '17.0', '25.1', '27.6', '20.5', '20.7', '20.0', '11.2', '70.5', '11.9', '2.1', '3.1', '8.0', '4.5', '22.3', '177333', '76.6', '15.1', '8.2', '0.2', '8.4') \n",
      "\n",
      "I: 1\n",
      "('AOS2771', 'Kenai', 'Kenai Peninsula Borough', 'AK', 'Kenai Police Department', 'Police', 'The Kenai Police Department uses body-worn cameras.', 'Municipal', 'Body-worn Cameras', '', 'https://www.adn.com/crime-justice/article/alaskas-police-get-board-body-camera-trend/2015/10/05/', '', 'Anchorage Daily News', '', '10/04/2015', 'https://www.ktva.com/story/36051503/anchorage-police-consider-using-body-cameras', '', 'KTVA', '', '10/09/2015', 'https://www.peninsulaclarion.com/news/2015-09-16/soldotna-police-get-body-cams/', '', 'Peninsula Clarion', '', '9/7/15', '2122', 'Alaska', 'Kenai Peninsula Borough', '57221', '29974', '27247', '3.7', '81.7', '0.6', '7.3', '1.3', '0.1', '43435', '63684.0', '2337.0', '31537', '975', '10.0', '11.8', '29.9', '19.0', '22.2', '16.9', '12.0', '67.4', '11.0', '0.7', '5.9', '8.1', '6.8', '19.7', '25637', '72.2', '17.4', '9.8', '0.5', '9.4') \n",
      "\n",
      "I: 2\n",
      "('AOS2803', 'Garden City', 'Ada', 'ID', 'Garden City Police Department', 'Police', 'The Garden City Police Department implemented a body-worn camera policy in 2018. ', 'Municipal', 'Body-worn Cameras', '', 'https://www.gcpolice.org/home/showdocument?id=4484', '', 'Garden City Police Department', '', '01/05/2018', 'https://www.facebook.com/GardenCityPoliceIdaho/photos/a.377847775566626/3408067172544656/?type=3&theater', '', 'Garden City Police Department', '', '11/15/2019', 'https://www.facebook.com/GardenCityPoliceIdaho/photos/a.377847775566626/3706311456053558/?type=3&theater', '', 'Garden City Police Department', '', '', '16001', 'Idaho', 'Ada', '417501', '208879', '208622', '7.6', '85.5', '1.1', '0.5', '2.6', '0.2', '298836', '56356.0', '1082.0', '28851', '622', '12.3', '13.7', '42.4', '16.8', '25.4', '7.2', '8.2', '79.9', '8.0', '0.5', '2.0', '2.8', '6.9', '20.0', '199955', '77.2', '15.8', '6.9', '0.1', '6.6') \n",
      "\n",
      "I: 3\n",
      "('AOS4245', 'Seward', 'Kenai Peninsula Borough', 'AK', 'Seward Police Department', 'Police', \"The Seward Police Department signed an agreement with Amazon's home surveillance equipment company, Ring, in 2019 to gain special access to the company's Neighbors app.\", 'Municipal', 'Ring/Neighbors Partnership', 'Ring', 'https://www.google.com/maps/d/viewer?mid=1eYVDPh5itXq5acDT9b0BVeQwmESBa4cB&usp=sharing', '', 'Ring', '', '10/15/19', '', '', '', '', '', '', '', '', '', '', '2122', 'Alaska', 'Kenai Peninsula Borough', '57221', '29974', '27247', '3.7', '81.7', '0.6', '7.3', '1.3', '0.1', '43435', '63684.0', '2337.0', '31537', '975', '10.0', '11.8', '29.9', '19.0', '22.2', '16.9', '12.0', '67.4', '11.0', '0.7', '5.9', '8.1', '6.8', '19.7', '25637', '72.2', '17.4', '9.8', '0.5', '9.4') \n",
      "\n",
      "I: 4\n",
      "('AOS4775', 'Fairbanks', 'Fairbanks North Star Borough', 'AK', 'Fairbanks Police Department', 'Police', \"The Fairbanks Police Department signed an agreement with Amazon's home surveillance equipment company, Ring, in 2020 to gain special access to the company's Neighbors app.\", 'Municipal', 'Ring/Neighbors Partnership', 'Ring', 'https://www.google.com/maps/d/viewer?mid=1eYVDPh5itXq5acDT9b0BVeQwmESBa4cB&usp=sharing', '', 'Ring', '', '3/10/2020', '', '', '', '', '', '', '', '', '', '', '2090', 'Alaska', 'Fairbanks North Star Borough', '99705', '53477', '46228', '7.4', '71.9', '4.1', '5.7', '2.6', '0.6', '72964', '71068.0', '1964.0', '33244', '1103', '8.1', '9.9', '36.6', '17.0', '23.4', '12.9', '10.1', '74.0', '14.3', '1.5', '3.6', '3.3', '3.4', '19.2', '46661', '65.8', '29.9', '4.1', '0.2', '7.9') \n",
      "\n",
      "I: 5\n",
      "('AOS5339', 'Bellbrook', 'Greene', 'OH', 'Bellbrook Police Department', 'Police', 'The Bellbrook Police Department spent $16,000 on body-worn cameras in 2017. ', 'Municipal', 'Body-worn Cameras', '', 'http://www.cityofbellbrook.org/page/open/1738/0/2016-12-12_Attachment_2017_Budget_Presentation.pdf', '', 'City of Bellbrook, Ohio', '', '12/12/2016', 'http://www.cityofbellbrook.org/page/open/1832/0/2017-07-10.pdf', '', 'City of Bellbrook, OH', '', '07/10/2017', '', '', '', '', '', '1063', 'Alabama', 'Greene', '8697', '4095', '4602', '0.7', '17.8', '80.6', '0.1', '0.2', '0.0', '6669', '20541.0', '2413.0', '13611', '1741', '40.2', '67.0', '20.1', '22.3', '26.0', '9.5', '22.1', '82.1', '9.3', '0.8', '3.4', '2.1', '2.3', '30.5', '2412', '75.8', '17.2', '7.0', '0.0', '20.4') \n",
      "\n",
      "I: 6\n",
      "('AOS5339', 'Bellbrook', 'Greene', 'OH', 'Bellbrook Police Department', 'Police', 'The Bellbrook Police Department spent $16,000 on body-worn cameras in 2017. ', 'Municipal', 'Body-worn Cameras', '', 'http://www.cityofbellbrook.org/page/open/1738/0/2016-12-12_Attachment_2017_Budget_Presentation.pdf', '', 'City of Bellbrook, Ohio', '', '12/12/2016', 'http://www.cityofbellbrook.org/page/open/1832/0/2017-07-10.pdf', '', 'City of Bellbrook, OH', '', '07/10/2017', '', '', '', '', '', '13133', 'Georgia', 'Greene', '16331', '7972', '8359', '6.2', '55.9', '36.3', '0.0', '0.7', '0.0', '12502', '42408.0', '2167.0', '28209', '2047', '24.9', '44.7', '24.1', '25.1', '24.0', '10.4', '16.3', '81.2', '8.0', '0.2', '1.3', '3.1', '6.3', '26.1', '5952', '80.9', '13.4', '5.6', '0.1', '6.8') \n",
      "\n",
      "I: 7\n",
      "('AOS5339', 'Bellbrook', 'Greene', 'OH', 'Bellbrook Police Department', 'Police', 'The Bellbrook Police Department spent $16,000 on body-worn cameras in 2017. ', 'Municipal', 'Body-worn Cameras', '', 'http://www.cityofbellbrook.org/page/open/1738/0/2016-12-12_Attachment_2017_Budget_Presentation.pdf', '', 'City of Bellbrook, Ohio', '', '12/12/2016', 'http://www.cityofbellbrook.org/page/open/1832/0/2017-07-10.pdf', '', 'City of Bellbrook, OH', '', '07/10/2017', '', '', '', '', '', '17061', 'Illinois', 'Greene', '13502', '6797', '6705', '1.1', '97.1', '1.0', '0.1', '0.1', '0.0', '10526', '42565.0', '2439.0', '22105', '1153', '17.1', '23.1', '27.5', '20.9', '18.9', '12.3', '20.4', '77.9', '11.3', '0.2', '3.8', '1.5', '5.3', '27.8', '5944', '76.3', '13.0', '10.2', '0.5', '9.4') \n",
      "\n",
      "I: 8\n",
      "('AOS5339', 'Bellbrook', 'Greene', 'OH', 'Bellbrook Police Department', 'Police', 'The Bellbrook Police Department spent $16,000 on body-worn cameras in 2017. ', 'Municipal', 'Body-worn Cameras', '', 'http://www.cityofbellbrook.org/page/open/1738/0/2016-12-12_Attachment_2017_Budget_Presentation.pdf', '', 'City of Bellbrook, Ohio', '', '12/12/2016', 'http://www.cityofbellbrook.org/page/open/1832/0/2017-07-10.pdf', '', 'City of Bellbrook, OH', '', '07/10/2017', '', '', '', '', '', '18055', 'Indiana', 'Greene', '32815', '16298', '16517', '1.2', '97.0', '0.2', '0.0', '0.4', '0.2', '25215', '45397.0', '3040.0', '22767', '1090', '13.6', '15.7', '27.7', '18.6', '21.2', '12.9', '19.7', '85.3', '10.2', '0.3', '1.7', '1.3', '1.3', '28.9', '14187', '74.2', '19.6', '5.7', '0.5', '7.0') \n",
      "\n",
      "I: 9\n",
      "('AOS5339', 'Bellbrook', 'Greene', 'OH', 'Bellbrook Police Department', 'Police', 'The Bellbrook Police Department spent $16,000 on body-worn cameras in 2017. ', 'Municipal', 'Body-worn Cameras', '', 'http://www.cityofbellbrook.org/page/open/1738/0/2016-12-12_Attachment_2017_Budget_Presentation.pdf', '', 'City of Bellbrook, Ohio', '', '12/12/2016', 'http://www.cityofbellbrook.org/page/open/1832/0/2017-07-10.pdf', '', 'City of Bellbrook, OH', '', '07/10/2017', '', '', '', '', '', '19073', 'Iowa', 'Greene', '9174', '4481', '4693', '2.6', '95.4', '0.1', '0.0', '0.4', '0.0', '7009', '46898.0', '2939.0', '26918', '1963', '12.6', '18.1', '33.8', '19.0', '19.4', '11.1', '16.6', '79.5', '6.8', '0.0', '3.7', '2.2', '7.8', '18.7', '4452', '73.1', '15.4', '10.9', '0.5', '5.6') \n",
      "\n",
      "I: 10\n",
      "('AOS5339', 'Bellbrook', 'Greene', 'OH', 'Bellbrook Police Department', 'Police', 'The Bellbrook Police Department spent $16,000 on body-worn cameras in 2017. ', 'Municipal', 'Body-worn Cameras', '', 'http://www.cityofbellbrook.org/page/open/1738/0/2016-12-12_Attachment_2017_Budget_Presentation.pdf', '', 'City of Bellbrook, Ohio', '', '12/12/2016', 'http://www.cityofbellbrook.org/page/open/1832/0/2017-07-10.pdf', '', 'City of Bellbrook, OH', '', '07/10/2017', '', '', '', '', '', '28041', 'Mississippi', 'Greene', '14129', '8409', '5720', '1.0', '71.4', '25.7', '0.2', '0.0', '0.0', '11169', '40176.0', '6892.0', '15728', '1575', '14.5', '10.5', '28.5', '12.1', '21.6', '20.5', '17.2', '77.5', '15.5', '0.0', '1.2', '2.5', '3.3', '41.0', '3955', '68.8', '27.7', '3.4', '0.0', '12.6') \n",
      "\n",
      "I: 11\n",
      "('AOS5339', 'Bellbrook', 'Greene', 'OH', 'Bellbrook Police Department', 'Police', 'The Bellbrook Police Department spent $16,000 on body-worn cameras in 2017. ', 'Municipal', 'Body-worn Cameras', '', 'http://www.cityofbellbrook.org/page/open/1738/0/2016-12-12_Attachment_2017_Budget_Presentation.pdf', '', 'City of Bellbrook, Ohio', '', '12/12/2016', 'http://www.cityofbellbrook.org/page/open/1832/0/2017-07-10.pdf', '', 'City of Bellbrook, OH', '', '07/10/2017', '', '', '', '', '', '29077', 'Missouri', 'Greene', '283206', '137929', '145277', '3.3', '88.7', '3.1', '0.4', '1.8', '0.1', '218833', '41227.0', '657.0', '24097', '483', '19.0', '24.4', '35.0', '19.1', '26.7', '7.1', '12.0', '82.9', '9.0', '0.7', '2.2', '1.6', '3.6', '19.0', '135307', '83.0', '12.2', '4.7', '0.1', '6.8') \n",
      "\n",
      "I: 12\n",
      "('AOS5339', 'Bellbrook', 'Greene', 'OH', 'Bellbrook Police Department', 'Police', 'The Bellbrook Police Department spent $16,000 on body-worn cameras in 2017. ', 'Municipal', 'Body-worn Cameras', '', 'http://www.cityofbellbrook.org/page/open/1738/0/2016-12-12_Attachment_2017_Budget_Presentation.pdf', '', 'City of Bellbrook, Ohio', '', '12/12/2016', 'http://www.cityofbellbrook.org/page/open/1832/0/2017-07-10.pdf', '', 'City of Bellbrook, OH', '', '07/10/2017', '', '', '', '', '', '36039', 'New York', 'Greene', '48312', '24996', '23316', '5.3', '86.2', '5.8', '0.0', '1.0', '0.0', '38691', '50278.0', '2034.0', '26261', '1140', '12.9', '17.5', '34.0', '19.0', '22.4', '10.7', '13.9', '81.4', '8.5', '0.9', '2.5', '2.2', '4.5', '27.3', '19731', '68.1', '23.3', '7.8', '0.8', '9.1') \n",
      "\n",
      "I: 13\n",
      "('AOS5339', 'Bellbrook', 'Greene', 'OH', 'Bellbrook Police Department', 'Police', 'The Bellbrook Police Department spent $16,000 on body-worn cameras in 2017. ', 'Municipal', 'Body-worn Cameras', '', 'http://www.cityofbellbrook.org/page/open/1738/0/2016-12-12_Attachment_2017_Budget_Presentation.pdf', '', 'City of Bellbrook, Ohio', '', '12/12/2016', 'http://www.cityofbellbrook.org/page/open/1832/0/2017-07-10.pdf', '', 'City of Bellbrook, OH', '', '07/10/2017', '', '', '', '', '', '37079', 'North Carolina', 'Greene', '21328', '11499', '9829', '14.7', '47.5', '35.6', '0.5', '0.2', '0.0', '15330', '35777.0', '2404.0', '18107', '1150', '25.7', '38.1', '24.7', '19.2', '20.4', '17.7', '18.0', '81.2', '13.1', '0.4', '2.7', '1.0', '1.5', '24.5', '8070', '76.2', '18.4', '5.3', '0.1', '11.9') \n",
      "\n",
      "I: 14\n",
      "('AOS5339', 'Bellbrook', 'Greene', 'OH', 'Bellbrook Police Department', 'Police', 'The Bellbrook Police Department spent $16,000 on body-worn cameras in 2017. ', 'Municipal', 'Body-worn Cameras', '', 'http://www.cityofbellbrook.org/page/open/1738/0/2016-12-12_Attachment_2017_Budget_Presentation.pdf', '', 'City of Bellbrook, Ohio', '', '12/12/2016', 'http://www.cityofbellbrook.org/page/open/1832/0/2017-07-10.pdf', '', 'City of Bellbrook, OH', '', '07/10/2017', '', '', '', '', '', '39057', 'Ohio', 'Greene', '164192', '80590', '83602', '2.6', '84.4', '7.1', '0.1', '2.9', '0.0', '126008', '60113.0', '1836.0', '31075', '607', '13.6', '19.2', '44.4', '15.7', '23.5', '6.1', '10.4', '84.0', '7.2', '0.4', '3.3', '0.9', '4.3', '20.7', '76109', '73.7', '21.2', '5.0', '0.2', '7.6') \n",
      "\n",
      "I: 15\n",
      "('AOS5339', 'Bellbrook', 'Greene', 'OH', 'Bellbrook Police Department', 'Police', 'The Bellbrook Police Department spent $16,000 on body-worn cameras in 2017. ', 'Municipal', 'Body-worn Cameras', '', 'http://www.cityofbellbrook.org/page/open/1738/0/2016-12-12_Attachment_2017_Budget_Presentation.pdf', '', 'City of Bellbrook, Ohio', '', '12/12/2016', 'http://www.cityofbellbrook.org/page/open/1832/0/2017-07-10.pdf', '', 'City of Bellbrook, OH', '', '07/10/2017', '', '', '', '', '', '42059', 'Pennsylvania', 'Greene', '37938', '19652', '18286', '2.3', '91.2', '4.8', '0.1', '0.2', '0.0', '30515', '46661.0', '2414.0', '23232', '961', '13.9', '19.7', '30.0', '18.3', '21.4', '17.0', '13.3', '84.6', '9.4', '0.1', '3.0', '0.9', '2.1', '26.5', '14728', '81.0', '16.1', '2.8', '0.1', '6.4') \n",
      "\n",
      "I: 16\n",
      "('AOS5339', 'Bellbrook', 'Greene', 'OH', 'Bellbrook Police Department', 'Police', 'The Bellbrook Police Department spent $16,000 on body-worn cameras in 2017. ', 'Municipal', 'Body-worn Cameras', '', 'http://www.cityofbellbrook.org/page/open/1738/0/2016-12-12_Attachment_2017_Budget_Presentation.pdf', '', 'City of Bellbrook, Ohio', '', '12/12/2016', 'http://www.cityofbellbrook.org/page/open/1832/0/2017-07-10.pdf', '', 'City of Bellbrook, OH', '', '07/10/2017', '', '', '', '', '', '47059', 'Tennessee', 'Greene', '68576', '33463', '35113', '2.7', '93.4', '2.1', '0.1', '0.5', '0.0', '54029', '35196.0', '957.0', '20398', '810', '20.5', '32.1', '27.8', '17.4', '21.1', '9.8', '23.8', '85.9', '9.0', '0.2', '1.3', '1.4', '2.2', '22.7', '28160', '76.4', '15.9', '7.5', '0.2', '8.7') \n",
      "\n",
      "I: 17\n",
      "('AOS5339', 'Bellbrook', 'Greene', 'OH', 'Bellbrook Police Department', 'Police', 'The Bellbrook Police Department spent $16,000 on body-worn cameras in 2017. ', 'Municipal', 'Body-worn Cameras', '', 'http://www.cityofbellbrook.org/page/open/1738/0/2016-12-12_Attachment_2017_Budget_Presentation.pdf', '', 'City of Bellbrook, Ohio', '', '12/12/2016', 'http://www.cityofbellbrook.org/page/open/1832/0/2017-07-10.pdf', '', 'City of Bellbrook, OH', '', '07/10/2017', '', '', '', '', '', '5055', 'Arkansas', 'Greene', '43382', '21477', '21905', '2.6', '94.5', '0.9', '0.2', '0.1', '0.0', '32368', '41286.0', '1835.0', '20689', '745', '17.8', '22.8', '28.3', '13.7', '23.5', '9.7', '24.8', '86.8', '8.3', '0.1', '0.9', '1.6', '2.4', '20.7', '17659', '78.5', '14.5', '6.9', '0.1', '9.0') \n",
      "\n",
      "I: 18\n",
      "('AOS5339', 'Bellbrook', 'Greene', 'OH', 'Bellbrook Police Department', 'Police', 'The Bellbrook Police Department spent $16,000 on body-worn cameras in 2017. ', 'Municipal', 'Body-worn Cameras', '', 'http://www.cityofbellbrook.org/page/open/1738/0/2016-12-12_Attachment_2017_Budget_Presentation.pdf', '', 'City of Bellbrook, Ohio', '', '12/12/2016', 'http://www.cityofbellbrook.org/page/open/1832/0/2017-07-10.pdf', '', 'City of Bellbrook, OH', '', '07/10/2017', '', '', '', '', '', '51079', 'Virginia', 'Greene', '18938', '9237', '9701', '4.9', '84.8', '6.5', '0.0', '1.2', '0.2', '13856', '61550.0', '5109.0', '28209', '1938', '9.9', '9.8', '37.4', '20.2', '24.0', '11.0', '7.4', '83.2', '11.2', '0.5', '0.8', '1.4', '2.9', '29.3', '8932', '71.2', '21.5', '7.2', '0.1', '7.4') \n",
      "\n",
      "I: 19\n",
      "('AOS5358', 'Rock Falls', 'Whiteside', 'IL', 'Rock Falls Police Department', 'Police', 'The Rock Falls Police Department purchased 19 Axon body-worn cameras in 2018. ', 'Municipal', 'Body-worn Cameras', 'Axon', 'https://rockfalls61071.net/download/departments/police/2018-annual-report.pdf', '', \"The Rock Falls Polcie Department's 2018 Annual Report\", '', '2018', '', '', '', '', '', '', '', '', '', '', '17195', 'Illinois', 'Whiteside', '57525', '28306', '29219', '11.6', '85.0', '1.6', '0.2', '0.5', '0.0', '43682', '47401.0', '1519.0', '25490', '574', '12.0', '18.0', '26.9', '18.5', '23.7', '9.5', '21.4', '83.6', '9.5', '0.3', '1.7', '2.3', '2.7', '19.2', '26336', '81.4', '13.4', '4.9', '0.3', '8.1') \n",
      "\n",
      "I: 20\n",
      "('AOS5359', 'Delhi Township', 'Hamilton', 'OH', 'Delhi Township Police Department', 'Police', 'The Delhi Township Board of Trustees authorized the purchase of body-worn cameras for the police department in 2017.', 'Municipal', 'Body-worn Cameras', 'Axon', 'https://delhi.oh.us/wpfb-file/agenda-2017-09-13-pdf/', '', 'Delhi Township Board of Trustees', '', '09/13/2017', '', '', '', '', '', '', '', '', '', '', '12047', 'Florida', 'Hamilton', '14395', '8671', '5724', '9.2', '54.9', '33.2', '0.3', '0.3', '0.0', '11180', '35048.0', '3762.0', '14742', '1291', '29.3', '47.0', '27.4', '21.6', '21.9', '12.5', '16.6', '82.2', '10.2', '0.0', '1.4', '2.5', '3.7', '22.4', '3966', '65.9', '24.5', '8.8', '0.8', '15.8') \n",
      "\n",
      "I: 21\n",
      "('AOS5359', 'Delhi Township', 'Hamilton', 'OH', 'Delhi Township Police Department', 'Police', 'The Delhi Township Board of Trustees authorized the purchase of body-worn cameras for the police department in 2017.', 'Municipal', 'Body-worn Cameras', 'Axon', 'https://delhi.oh.us/wpfb-file/agenda-2017-09-13-pdf/', '', 'Delhi Township Board of Trustees', '', '09/13/2017', '', '', '', '', '', '', '', '', '', '', '17065', 'Illinois', 'Hamilton', '8322', '4087', '4235', '0.2', '99.1', '0.5', '0.1', '0.0', '0.0', '6444', '44159.0', '8254.0', '24110', '1974', '14.8', '16.0', '25.7', '14.5', '23.5', '16.1', '20.2', '78.3', '14.5', '1.9', '0.8', '0.3', '4.3', '29.7', '3618', '78.9', '11.6', '9.3', '0.1', '4.5') \n",
      "\n",
      "I: 22\n",
      "('AOS5359', 'Delhi Township', 'Hamilton', 'OH', 'Delhi Township Police Department', 'Police', 'The Delhi Township Board of Trustees authorized the purchase of body-worn cameras for the police department in 2017.', 'Municipal', 'Body-worn Cameras', 'Axon', 'https://delhi.oh.us/wpfb-file/agenda-2017-09-13-pdf/', '', 'Delhi Township Board of Trustees', '', '09/13/2017', '', '', '', '', '', '', '', '', '', '', '18057', 'Indiana', 'Hamilton', '296635', '144898', '151737', '3.7', '85.0', '3.5', '0.1', '5.3', '0.0', '200794', '86222.0', '1856.0', '41316', '865', '4.7', '5.6', '51.8', '11.2', '25.9', '5.1', '6.1', '84.9', '7.1', '0.2', '0.7', '0.9', '6.2', '26.6', '154190', '84.9', '10.5', '4.4', '0.1', '4.3') \n",
      "\n",
      "I: 23\n",
      "('AOS5359', 'Delhi Township', 'Hamilton', 'OH', 'Delhi Township Police Department', 'Police', 'The Delhi Township Board of Trustees authorized the purchase of body-worn cameras for the police department in 2017.', 'Municipal', 'Body-worn Cameras', 'Axon', 'https://delhi.oh.us/wpfb-file/agenda-2017-09-13-pdf/', '', 'Delhi Township Board of Trustees', '', '09/13/2017', '', '', '', '', '', '', '', '', '', '', '19079', 'Iowa', 'Hamilton', '15297', '7467', '7830', '5.4', '90.7', '0.7', '0.0', '2.2', '0.0', '11415', '49813.0', '3439.0', '26001', '2157', '11.4', '17.2', '30.0', '15.3', '21.7', '12.3', '20.7', '81.1', '9.0', '0.0', '5.5', '1.1', '3.3', '17.5', '7476', '75.1', '16.0', '8.7', '0.2', '3.8') \n",
      "\n",
      "I: 24\n",
      "('AOS5359', 'Delhi Township', 'Hamilton', 'OH', 'Delhi Township Police Department', 'Police', 'The Delhi Township Board of Trustees authorized the purchase of body-worn cameras for the police department in 2017.', 'Municipal', 'Body-worn Cameras', 'Axon', 'https://delhi.oh.us/wpfb-file/agenda-2017-09-13-pdf/', '', 'Delhi Township Board of Trustees', '', '09/13/2017', '', '', '', '', '', '', '', '', '', '', '20075', 'Kansas', 'Hamilton', '2586', '1342', '1244', '33.7', '64.7', '0.0', '0.2', '0.0', '0.0', '1539', '45114.0', '7686.0', '22250', '2029', '14.3', '26.9', '29.4', '15.1', '18.4', '27.0', '10.1', '72.8', '12.0', '0.0', '6.8', '0.0', '8.3', '12.5', '1322', '64.8', '16.6', '17.9', '0.7', '2.3') \n",
      "\n",
      "I: 25\n",
      "('AOS5359', 'Delhi Township', 'Hamilton', 'OH', 'Delhi Township Police Department', 'Police', 'The Delhi Township Board of Trustees authorized the purchase of body-worn cameras for the police department in 2017.', 'Municipal', 'Body-worn Cameras', 'Axon', 'https://delhi.oh.us/wpfb-file/agenda-2017-09-13-pdf/', '', 'Delhi Township Board of Trustees', '', '09/13/2017', '', '', '', '', '', '', '', '', '', '', '31081', 'Nebraska', 'Hamilton', '9100', '4550', '4550', '2.9', '95.6', '0.5', '0.1', '0.2', '0.0', '6811', '59311.0', '3480.0', '30424', '1885', '8.7', '12.6', '33.1', '14.4', '25.0', '12.8', '14.7', '80.3', '6.6', '0.0', '5.3', '1.3', '6.5', '17.9', '4723', '78.0', '11.3', '10.4', '0.3', '2.5') \n",
      "\n",
      "I: 26\n",
      "('AOS5359', 'Delhi Township', 'Hamilton', 'OH', 'Delhi Township Police Department', 'Police', 'The Delhi Township Board of Trustees authorized the purchase of body-worn cameras for the police department in 2017.', 'Municipal', 'Body-worn Cameras', 'Axon', 'https://delhi.oh.us/wpfb-file/agenda-2017-09-13-pdf/', '', 'Delhi Township Board of Trustees', '', '09/13/2017', '', '', '', '', '', '', '', '', '', '', '36041', 'New York', 'Hamilton', '4760', '2406', '2354', '1.3', '94.8', '0.5', '0.1', '0.1', '0.0', '3967', '48243.0', '3403.0', '26968', '3178', '12.9', '13.6', '34.0', '28.1', '19.0', '11.8', '7.0', '72.6', '10.7', '0.2', '5.6', '5.1', '5.8', '23.8', '1887', '63.2', '30.6', '6.0', '0.2', '9.7') \n",
      "\n",
      "I: 27\n",
      "('AOS5359', 'Delhi Township', 'Hamilton', 'OH', 'Delhi Township Police Department', 'Police', 'The Delhi Township Board of Trustees authorized the purchase of body-worn cameras for the police department in 2017.', 'Municipal', 'Body-worn Cameras', 'Axon', 'https://delhi.oh.us/wpfb-file/agenda-2017-09-13-pdf/', '', 'Delhi Township Board of Trustees', '', '09/13/2017', '', '', '', '', '', '', '', '', '', '', '39061', 'Ohio', 'Hamilton', '804194', '386561', '417633', '2.8', '66.8', '25.6', '0.1', '2.2', '0.0', '596879', '49013.0', '655.0', '30360', '330', '18.3', '26.8', '40.1', '18.3', '24.7', '5.7', '11.2', '79.7', '8.5', '3.7', '2.9', '1.0', '4.1', '23.0', '383555', '84.8', '10.4', '4.7', '0.1', '8.8') \n",
      "\n",
      "I: 28\n",
      "('AOS5359', 'Delhi Township', 'Hamilton', 'OH', 'Delhi Township Police Department', 'Police', 'The Delhi Township Board of Trustees authorized the purchase of body-worn cameras for the police department in 2017.', 'Municipal', 'Body-worn Cameras', 'Axon', 'https://delhi.oh.us/wpfb-file/agenda-2017-09-13-pdf/', '', 'Delhi Township Board of Trustees', '', '09/13/2017', '', '', '', '', '', '', '', '', '', '', '47065', 'Tennessee', 'Hamilton', '348121', '167812', '180309', '4.9', '71.6', '19.7', '0.1', '1.9', '0.0', '264986', '48248.0', '1137.0', '27518', '443', '16.0', '23.6', '37.3', '17.2', '25.3', '7.0', '13.1', '83.3', '8.2', '1.0', '2.1', '1.3', '4.2', '21.6', '162818', '79.6', '14.3', '5.9', '0.2', '8.0') \n",
      "\n",
      "I: 29\n",
      "('AOS5359', 'Delhi Township', 'Hamilton', 'OH', 'Delhi Township Police Department', 'Police', 'The Delhi Township Board of Trustees authorized the purchase of body-worn cameras for the police department in 2017.', 'Municipal', 'Body-worn Cameras', 'Axon', 'https://delhi.oh.us/wpfb-file/agenda-2017-09-13-pdf/', '', 'Delhi Township Board of Trustees', '', '09/13/2017', '', '', '', '', '', '', '', '', '', '', '48193', 'Texas', 'Hamilton', '8266', '4040', '4226', '11.2', '86.4', '1.0', '0.4', '0.2', '0.0', '6378', '42432.0', '5528.0', '24518', '3148', '14.5', '16.4', '28.4', '21.4', '21.2', '19.0', '10.0', '76.0', '14.0', '0.0', '5.9', '0.5', '3.6', '21.0', '3279', '72.9', '17.8', '7.5', '1.9', '5.9') \n",
      "\n",
      "I: 30\n"
     ]
    }
   ],
   "source": [
    "# select *\n",
    "# from Db1.dbo.Clients c\n",
    "# join Db2.dbo.Messages m on c.ClientId = m.ClientId\n",
    "\n",
    "\n",
    "JOIN_QUERY = ' SELECT * FROM Atlas_of_Surveillance_20201007 INNER JOIN acs2015_county_data ON acs2015_county_data.County = Atlas_of_Surveillance_20201007.County;'\n",
    "c_atlas = conn_atlas.cursor()\n",
    "c_atlas.execute(JOIN_QUERY)\n",
    "conn_atlas.commit()\n",
    "i = 0\n",
    "for row in c_atlas:\n",
    "  print(row, \"\\n\")\n",
    "  print(\"I:\", i)\n",
    "  i += 1"
   ]
  },
  {
   "cell_type": "code",
   "execution_count": null,
   "metadata": {},
   "outputs": [],
   "source": []
  }
 ],
 "metadata": {
  "kernelspec": {
   "display_name": "Python 3",
   "language": "python",
   "name": "python3"
  },
  "language_info": {
   "codemirror_mode": {
    "name": "ipython",
    "version": 3
   },
   "file_extension": ".py",
   "mimetype": "text/x-python",
   "name": "python",
   "nbconvert_exporter": "python",
   "pygments_lexer": "ipython3",
   "version": "3.8.2"
  }
 },
 "nbformat": 4,
 "nbformat_minor": 4
}
