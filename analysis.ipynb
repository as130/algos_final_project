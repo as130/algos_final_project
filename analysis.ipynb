{
 "cells": [
  {
   "cell_type": "markdown",
   "metadata": {},
   "source": [
    "# This is our workspace for data analysis!"
   ]
  },
  {
   "cell_type": "code",
   "execution_count": 36,
   "metadata": {},
   "outputs": [],
   "source": [
    "# feel free to add more\n",
    "\n",
    "import sqlite3\n",
    "import numpy as np\n",
    "import pandas as np"
   ]
  },
  {
   "cell_type": "code",
   "execution_count": 37,
   "metadata": {},
   "outputs": [],
   "source": [
    "# Create connection to atlas\n",
    "conn_atlas = sqlite3.connect('./atlas.db')\n",
    "c_atlas = conn_atlas.cursor()"
   ]
  },
  {
   "cell_type": "code",
   "execution_count": 38,
   "metadata": {},
   "outputs": [
    {
     "name": "stdout",
     "output_type": "stream",
     "text": [
      "('Atlas_of_Surveillance_20201007',)\n",
      "(0, 'AOSNUMBER', 'TEXT', 0, None, 0)\n",
      "(1, 'City', 'TEXT', 0, None, 0)\n",
      "(2, 'County', 'TEXT', 0, None, 0)\n",
      "(3, 'State', 'TEXT', 0, None, 0)\n",
      "(4, 'Agency', 'TEXT', 0, None, 0)\n",
      "(5, 'Type of LEA', 'TEXT', 0, None, 0)\n",
      "(6, 'Summary', 'TEXT', 0, None, 0)\n",
      "(7, 'Type of Juris', 'TEXT', 0, None, 0)\n",
      "(8, 'Technology', 'TEXT', 0, None, 0)\n",
      "(9, 'Vendor', 'TEXT', 0, None, 0)\n",
      "(10, 'Link 1', 'TEXT', 0, None, 0)\n",
      "(11, 'Link 1 Snapshot', 'TEXT', 0, None, 0)\n",
      "(12, 'Link 1 Source', 'TEXT', 0, None, 0)\n",
      "(13, 'Link 1 Type', 'TEXT', 0, None, 0)\n",
      "(14, 'Link 1 Date', 'TEXT', 0, None, 0)\n",
      "(15, 'Link 2', 'TEXT', 0, None, 0)\n",
      "(16, 'Link 2 Snapshot', 'TEXT', 0, None, 0)\n",
      "(17, 'Link 2 Source', 'TEXT', 0, None, 0)\n",
      "(18, 'Link 2 Type', 'TEXT', 0, None, 0)\n",
      "(19, 'Link 2 Date', 'TEXT', 0, None, 0)\n",
      "(20, 'Link 3', 'TEXT', 0, None, 0)\n",
      "(21, 'Link 3 Snapshot', 'TEXT', 0, None, 0)\n",
      "(22, 'Link 3 Source', 'TEXT', 0, None, 0)\n",
      "(23, 'Link 3 Type', 'TEXT', 0, None, 0)\n",
      "(24, 'Link 3 Date', 'TEXT', 0, None, 0)\n"
     ]
    }
   ],
   "source": [
    "LIST_TABLES_CMD = \"SELECT name FROM sqlite_master WHERE type='table';\"\n",
    "LIST_COLUMNS_CMD_ATLAS = \"PRAGMA table_info('Atlas_of_Surveillance_20201007');\"\n",
    "c_atlas.execute(LIST_TABLES_CMD)\n",
    "conn_atlas.commit()\n",
    "\n",
    "for row in c_atlas:\n",
    "  print(row)\n",
    "\n",
    "c_atlas.execute(LIST_COLUMNS_CMD_ATLAS)\n",
    "conn_atlas.commit()\n",
    "\n",
    "for column in c_atlas:\n",
    "    print(column)"
   ]
  },
  {
   "cell_type": "code",
   "execution_count": 39,
   "metadata": {},
   "outputs": [],
   "source": [
    "# Create connection to 2015\n",
    "conn_2015 = sqlite3.connect('./us-census-data/2015.db')\n",
    "c_2015 = conn_2015.cursor()"
   ]
  },
  {
   "cell_type": "code",
   "execution_count": 40,
   "metadata": {},
   "outputs": [
    {
     "name": "stdout",
     "output_type": "stream",
     "text": [
      "('acs2015_county_data',)\n",
      "(0, 'CensusId', 'TEXT', 0, None, 0)\n",
      "(1, 'State', 'TEXT', 0, None, 0)\n",
      "(2, 'County', 'TEXT', 0, None, 0)\n",
      "(3, 'TotalPop', 'TEXT', 0, None, 0)\n",
      "(4, 'Men', 'TEXT', 0, None, 0)\n",
      "(5, 'Women', 'TEXT', 0, None, 0)\n",
      "(6, 'Hispanic', 'TEXT', 0, None, 0)\n",
      "(7, 'White', 'TEXT', 0, None, 0)\n",
      "(8, 'Black', 'TEXT', 0, None, 0)\n",
      "(9, 'Native', 'TEXT', 0, None, 0)\n",
      "(10, 'Asian', 'TEXT', 0, None, 0)\n",
      "(11, 'Pacific', 'TEXT', 0, None, 0)\n",
      "(12, 'Citizen', 'TEXT', 0, None, 0)\n",
      "(13, 'Income', 'TEXT', 0, None, 0)\n",
      "(14, 'IncomeErr', 'TEXT', 0, None, 0)\n",
      "(15, 'IncomePerCap', 'TEXT', 0, None, 0)\n",
      "(16, 'IncomePerCapErr', 'TEXT', 0, None, 0)\n",
      "(17, 'Poverty', 'TEXT', 0, None, 0)\n",
      "(18, 'ChildPoverty', 'TEXT', 0, None, 0)\n",
      "(19, 'Professional', 'TEXT', 0, None, 0)\n",
      "(20, 'Service', 'TEXT', 0, None, 0)\n",
      "(21, 'Office', 'TEXT', 0, None, 0)\n",
      "(22, 'Construction', 'TEXT', 0, None, 0)\n",
      "(23, 'Production', 'TEXT', 0, None, 0)\n",
      "(24, 'Drive', 'TEXT', 0, None, 0)\n",
      "(25, 'Carpool', 'TEXT', 0, None, 0)\n",
      "(26, 'Transit', 'TEXT', 0, None, 0)\n",
      "(27, 'Walk', 'TEXT', 0, None, 0)\n",
      "(28, 'OtherTransp', 'TEXT', 0, None, 0)\n",
      "(29, 'WorkAtHome', 'TEXT', 0, None, 0)\n",
      "(30, 'MeanCommute', 'TEXT', 0, None, 0)\n",
      "(31, 'Employed', 'TEXT', 0, None, 0)\n",
      "(32, 'PrivateWork', 'TEXT', 0, None, 0)\n",
      "(33, 'PublicWork', 'TEXT', 0, None, 0)\n",
      "(34, 'SelfEmployed', 'TEXT', 0, None, 0)\n",
      "(35, 'FamilyWork', 'TEXT', 0, None, 0)\n",
      "(36, 'Unemployment', 'TEXT', 0, None, 0)\n"
     ]
    }
   ],
   "source": [
    "c_2015.execute(LIST_TABLES_CMD)\n",
    "conn_2015.commit()\n",
    "\n",
    "for row in c_2015:\n",
    "  print(row)\n",
    "\n",
    "LIST_COLUMNS_CMD_2015 = \"PRAGMA table_info('acs2015_county_data');\"\n",
    "\n",
    "c_2015.execute(LIST_COLUMNS_CMD_2015)\n",
    "conn_2015.commit()\n",
    "\n",
    "for column in c_2015:\n",
    "    print(column)"
   ]
  },
  {
   "cell_type": "code",
   "execution_count": 43,
   "metadata": {},
   "outputs": [],
   "source": [
    "# Create connection to 2017\n",
    "conn_2017 = sqlite3.connect('./us-census-data/2017.db')\n",
    "c_2017 = conn_2017.cursor()"
   ]
  },
  {
   "cell_type": "code",
   "execution_count": 44,
   "metadata": {},
   "outputs": [
    {
     "name": "stdout",
     "output_type": "stream",
     "text": [
      "(0, 'CountyId', 'TEXT', 0, None, 0)\n",
      "(1, 'State', 'TEXT', 0, None, 0)\n",
      "(2, 'County', 'TEXT', 0, None, 0)\n",
      "(3, 'TotalPop', 'TEXT', 0, None, 0)\n",
      "(4, 'Men', 'TEXT', 0, None, 0)\n",
      "(5, 'Women', 'TEXT', 0, None, 0)\n",
      "(6, 'Hispanic', 'TEXT', 0, None, 0)\n",
      "(7, 'White', 'TEXT', 0, None, 0)\n",
      "(8, 'Black', 'TEXT', 0, None, 0)\n",
      "(9, 'Native', 'TEXT', 0, None, 0)\n",
      "(10, 'Asian', 'TEXT', 0, None, 0)\n",
      "(11, 'Pacific', 'TEXT', 0, None, 0)\n",
      "(12, 'VotingAgeCitizen', 'TEXT', 0, None, 0)\n",
      "(13, 'Income', 'TEXT', 0, None, 0)\n",
      "(14, 'IncomeErr', 'TEXT', 0, None, 0)\n",
      "(15, 'IncomePerCap', 'TEXT', 0, None, 0)\n",
      "(16, 'IncomePerCapErr', 'TEXT', 0, None, 0)\n",
      "(17, 'Poverty', 'TEXT', 0, None, 0)\n",
      "(18, 'ChildPoverty', 'TEXT', 0, None, 0)\n",
      "(19, 'Professional', 'TEXT', 0, None, 0)\n",
      "(20, 'Service', 'TEXT', 0, None, 0)\n",
      "(21, 'Office', 'TEXT', 0, None, 0)\n",
      "(22, 'Construction', 'TEXT', 0, None, 0)\n",
      "(23, 'Production', 'TEXT', 0, None, 0)\n",
      "(24, 'Drive', 'TEXT', 0, None, 0)\n",
      "(25, 'Carpool', 'TEXT', 0, None, 0)\n",
      "(26, 'Transit', 'TEXT', 0, None, 0)\n",
      "(27, 'Walk', 'TEXT', 0, None, 0)\n",
      "(28, 'OtherTransp', 'TEXT', 0, None, 0)\n",
      "(29, 'WorkAtHome', 'TEXT', 0, None, 0)\n",
      "(30, 'MeanCommute', 'TEXT', 0, None, 0)\n",
      "(31, 'Employed', 'TEXT', 0, None, 0)\n",
      "(32, 'PrivateWork', 'TEXT', 0, None, 0)\n",
      "(33, 'PublicWork', 'TEXT', 0, None, 0)\n",
      "(34, 'SelfEmployed', 'TEXT', 0, None, 0)\n",
      "(35, 'FamilyWork', 'TEXT', 0, None, 0)\n",
      "(36, 'Unemployment', 'TEXT', 0, None, 0)\n"
     ]
    }
   ],
   "source": [
    "c_2017.execute(LIST_TABLES_CMD)\n",
    "conn_2017.commit()\n",
    "\n",
    "LIST_COLUMNS_CMD_2017 = \"PRAGMA table_info('acs2017_county_data');\"\n",
    "\n",
    "c_2017.execute(LIST_COLUMNS_CMD_2017)\n",
    "conn_2017.commit()\n",
    "\n",
    "for column in c_2017:\n",
    "    print(column)\n",
    "for row in c_2017:\n",
    "  print(row)"
   ]
  },
  {
   "cell_type": "code",
   "execution_count": null,
   "metadata": {},
   "outputs": [],
   "source": []
  },
  {
   "cell_type": "code",
   "execution_count": null,
   "metadata": {},
   "outputs": [],
   "source": []
  }
 ],
 "metadata": {
  "kernelspec": {
   "display_name": "Python 3",
   "language": "python",
   "name": "python3"
  },
  "language_info": {
   "codemirror_mode": {
    "name": "ipython",
    "version": 3
   },
   "file_extension": ".py",
   "mimetype": "text/x-python",
   "name": "python",
   "nbconvert_exporter": "python",
   "pygments_lexer": "ipython3",
   "version": "3.8.2"
  }
 },
 "nbformat": 4,
 "nbformat_minor": 4
}
